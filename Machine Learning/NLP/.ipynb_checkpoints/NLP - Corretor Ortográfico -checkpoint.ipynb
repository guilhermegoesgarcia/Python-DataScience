{
 "cells": [
  {
   "cell_type": "code",
   "execution_count": 1,
   "metadata": {},
   "outputs": [],
   "source": [
    "import nltk"
   ]
  },
  {
   "cell_type": "code",
   "execution_count": 2,
   "metadata": {},
   "outputs": [
    {
     "name": "stdout",
     "output_type": "stream",
     "text": [
      "\n",
      "\n",
      "\n",
      "imagem \n",
      "\n",
      "Temos a seguinte classe que representa um usuário no nosso sistema:\n",
      "\n",
      "java\n",
      "\n",
      "Para salvar um novo usuário, várias validações são feitas, como por exemplo: Ver se o nome só contém letras, [**o CPF só números**] e ver se o usuário possui no mínimo 18 anos. Veja o método que faz essa validação:\n",
      "\n",
      "java \n",
      "\n",
      "Suponha agora que eu tenha outra classe, a classe `Produto`, que contém um atributo nome e eu quero fazer a mesma validação que fiz para o nome do usuário: Ver se só contém letras. E aí? Vou\n"
     ]
    }
   ],
   "source": [
    "with open('corretor-master/artigos.txt','r',encoding =\"utf8\") as f:\n",
    "    artigos = f.read()\n",
    "    \n",
    "print(artigos[:500])"
   ]
  },
  {
   "cell_type": "code",
   "execution_count": 3,
   "metadata": {},
   "outputs": [
    {
     "data": {
      "text/plain": [
       "7"
      ]
     },
     "execution_count": 3,
     "metadata": {},
     "output_type": "execute_result"
    }
   ],
   "source": [
    "len('Ola ola') # retorna a quantidade de variáveis"
   ]
  },
  {
   "cell_type": "code",
   "execution_count": 4,
   "metadata": {},
   "outputs": [],
   "source": [
    "texto_exemplo = 'Olá, tudo bem?'\n",
    "tokens_separadas = texto_exemplo.split()"
   ]
  },
  {
   "cell_type": "code",
   "execution_count": 5,
   "metadata": {},
   "outputs": [
    {
     "data": {
      "text/plain": [
       "['Olá,', 'tudo', 'bem?']"
      ]
     },
     "execution_count": 5,
     "metadata": {},
     "output_type": "execute_result"
    }
   ],
   "source": [
    "tokens_separadas"
   ]
  },
  {
   "cell_type": "code",
   "execution_count": 6,
   "metadata": {},
   "outputs": [
    {
     "ename": "NameError",
     "evalue": "name 'palavras_separadas' is not defined",
     "output_type": "error",
     "traceback": [
      "\u001b[1;31m---------------------------------------------------------------------------\u001b[0m",
      "\u001b[1;31mNameError\u001b[0m                                 Traceback (most recent call last)",
      "\u001b[1;32m<ipython-input-6-bd27b9a5f443>\u001b[0m in \u001b[0;36m<module>\u001b[1;34m\u001b[0m\n\u001b[1;32m----> 1\u001b[1;33m \u001b[0mlen\u001b[0m\u001b[1;33m(\u001b[0m\u001b[0mpalavras_separadas\u001b[0m\u001b[1;33m)\u001b[0m\u001b[1;33m\u001b[0m\u001b[1;33m\u001b[0m\u001b[0m\n\u001b[0m",
      "\u001b[1;31mNameError\u001b[0m: name 'palavras_separadas' is not defined"
     ]
    }
   ],
   "source": [
    "len(palavras_separadas)"
   ]
  },
  {
   "cell_type": "code",
   "execution_count": 53,
   "metadata": {},
   "outputs": [
    {
     "name": "stderr",
     "output_type": "stream",
     "text": [
      "[nltk_data] Downloading package punkt to\n",
      "[nltk_data]     C:\\Users\\Guilherme\\AppData\\Roaming\\nltk_data...\n",
      "[nltk_data]   Package punkt is already up-to-date!\n"
     ]
    },
    {
     "data": {
      "text/plain": [
       "True"
      ]
     },
     "execution_count": 53,
     "metadata": {},
     "output_type": "execute_result"
    }
   ],
   "source": [
    "nltk.download('punkt')"
   ]
  },
  {
   "cell_type": "markdown",
   "metadata": {},
   "source": [
    "### O comando abaixo já separa o texto em tokens contendo palávras e pontuação"
   ]
  },
  {
   "cell_type": "code",
   "execution_count": 7,
   "metadata": {},
   "outputs": [],
   "source": [
    "palavras_separadas = nltk.tokenize.word_tokenize(texto_exemplo) "
   ]
  },
  {
   "cell_type": "code",
   "execution_count": 8,
   "metadata": {},
   "outputs": [
    {
     "name": "stdout",
     "output_type": "stream",
     "text": [
      "['Olá', ',', 'tudo', 'bem', '?']\n"
     ]
    }
   ],
   "source": [
    "print(palavras_separadas)"
   ]
  },
  {
   "cell_type": "code",
   "execution_count": 9,
   "metadata": {},
   "outputs": [
    {
     "data": {
      "text/plain": [
       "5"
      ]
     },
     "execution_count": 9,
     "metadata": {},
     "output_type": "execute_result"
    }
   ],
   "source": [
    "len(palavras_separadas) # quantidade de tokens e não de palávras"
   ]
  },
  {
   "cell_type": "code",
   "execution_count": 10,
   "metadata": {},
   "outputs": [
    {
     "data": {
      "text/plain": [
       "True"
      ]
     },
     "execution_count": 10,
     "metadata": {},
     "output_type": "execute_result"
    }
   ],
   "source": [
    "'palavra'.isalpha() # retorna 'True' se for um caracter alfábetico"
   ]
  },
  {
   "cell_type": "markdown",
   "metadata": {},
   "source": [
    "### A função abaixo verifica se o caracter é alfabético ou não. Retornando \"True\" se alfabetico."
   ]
  },
  {
   "cell_type": "code",
   "execution_count": 11,
   "metadata": {},
   "outputs": [],
   "source": [
    "def separa_palavras(lista_tokens):\n",
    "    \n",
    "    lista_palavras = []\n",
    "    \n",
    "    for token in lista_tokens:\n",
    "        if token.isalpha():\n",
    "            lista_palavras.append(token)\n",
    "            \n",
    "    return lista_palavras"
   ]
  },
  {
   "cell_type": "code",
   "execution_count": 12,
   "metadata": {},
   "outputs": [
    {
     "data": {
      "text/plain": [
       "['Olá', 'tudo', 'bem']"
      ]
     },
     "execution_count": 12,
     "metadata": {},
     "output_type": "execute_result"
    }
   ],
   "source": [
    "separa_palavras(palavras_separadas)"
   ]
  },
  {
   "cell_type": "code",
   "execution_count": 13,
   "metadata": {},
   "outputs": [],
   "source": [
    "lista_tokens = nltk.tokenize.word_tokenize(artigos)\n",
    "lista_palavras = separa_palavras(lista_tokens)"
   ]
  },
  {
   "cell_type": "code",
   "execution_count": 14,
   "metadata": {},
   "outputs": [
    {
     "name": "stdout",
     "output_type": "stream",
     "text": [
      "O número de palavras é: 396692\n"
     ]
    }
   ],
   "source": [
    "print(f'O número de palavras é: {len(lista_palavras)}')"
   ]
  },
  {
   "cell_type": "code",
   "execution_count": 15,
   "metadata": {},
   "outputs": [
    {
     "name": "stdout",
     "output_type": "stream",
     "text": [
      "['imagem', 'Temos', 'a', 'seguinte', 'classe', 'que', 'representa', 'um', 'usuário', 'no']\n"
     ]
    }
   ],
   "source": [
    "print(lista_palavras[:10])"
   ]
  },
  {
   "cell_type": "markdown",
   "metadata": {},
   "source": [
    "### A função abaixo cria uma lista normalizada, transformando todas as letras máiusculas em minusculas."
   ]
  },
  {
   "cell_type": "code",
   "execution_count": 16,
   "metadata": {},
   "outputs": [],
   "source": [
    "def normalizacao(lista_palavras):\n",
    "    \n",
    "    lista_normalizada = []\n",
    "    \n",
    "    for palavra in lista_palavras:\n",
    "        lista_normalizada.append(palavra.lower())\n",
    "    \n",
    "    return lista_normalizada"
   ]
  },
  {
   "cell_type": "code",
   "execution_count": 17,
   "metadata": {},
   "outputs": [],
   "source": [
    "lista_normalizada = normalizacao(lista_palavras)"
   ]
  },
  {
   "cell_type": "code",
   "execution_count": 18,
   "metadata": {},
   "outputs": [
    {
     "name": "stdout",
     "output_type": "stream",
     "text": [
      "['imagem', 'temos', 'a', 'seguinte', 'classe']\n"
     ]
    }
   ],
   "source": [
    "print(lista_normalizada[:5])"
   ]
  },
  {
   "cell_type": "markdown",
   "metadata": {},
   "source": [
    "### Removendo palavras repitidas:"
   ]
  },
  {
   "cell_type": "code",
   "execution_count": 19,
   "metadata": {},
   "outputs": [
    {
     "data": {
      "text/plain": [
       "18057"
      ]
     },
     "execution_count": 19,
     "metadata": {},
     "output_type": "execute_result"
    }
   ],
   "source": [
    "len(set(lista_normalizada))"
   ]
  },
  {
   "cell_type": "markdown",
   "metadata": {},
   "source": [
    "### Criando função que percorre as letras do token criando palávras:"
   ]
  },
  {
   "cell_type": "code",
   "execution_count": 20,
   "metadata": {},
   "outputs": [
    {
     "data": {
      "text/plain": [
       "[2, 3]"
      ]
     },
     "execution_count": 20,
     "metadata": {},
     "output_type": "execute_result"
    }
   ],
   "source": [
    "lista = [1,2,3]\n",
    "lista[1:3]"
   ]
  },
  {
   "cell_type": "code",
   "execution_count": 21,
   "metadata": {},
   "outputs": [
    {
     "data": {
      "text/plain": [
       "('l', 'gica')"
      ]
     },
     "execution_count": 21,
     "metadata": {},
     "output_type": "execute_result"
    }
   ],
   "source": [
    "lista = 'lgica'\n",
    "(lista[:1], lista[1:])"
   ]
  },
  {
   "cell_type": "markdown",
   "metadata": {},
   "source": [
    "#### usando a mesma lógica.."
   ]
  },
  {
   "cell_type": "code",
   "execution_count": 22,
   "metadata": {},
   "outputs": [],
   "source": [
    "palavra_exemplo = 'lgica' "
   ]
  },
  {
   "cell_type": "code",
   "execution_count": 23,
   "metadata": {},
   "outputs": [],
   "source": [
    "def insere_letras(fatias):\n",
    "    novas_palavras = []\n",
    "    letras = 'qwertyuiopasdfghjklçzxcvbnmàèìòùáéíóúýâêîôûãñõäëïöüÿå'\n",
    "    \n",
    "    for E,D in fatias:\n",
    "        for letra in letras:\n",
    "            novas_palavras.append(E + letra + D)\n",
    "        \n",
    "    return novas_palavras\n",
    "\n",
    "def gerador_palavras(palavra):\n",
    "    fatias = []\n",
    "    for i in range(len(palavra)+1):\n",
    "        fatias.append((palavra[:i], palavra[i:]))\n",
    "       \n",
    "\n",
    "    palavras_geradas = insere_letras(fatias)\n",
    "    \n",
    "    return palavras_geradas"
   ]
  },
  {
   "cell_type": "code",
   "execution_count": 24,
   "metadata": {},
   "outputs": [
    {
     "data": {
      "text/plain": [
       "['qOla',\n",
       " 'wOla',\n",
       " 'eOla',\n",
       " 'rOla',\n",
       " 'tOla',\n",
       " 'yOla',\n",
       " 'uOla',\n",
       " 'iOla',\n",
       " 'oOla',\n",
       " 'pOla',\n",
       " 'aOla',\n",
       " 'sOla',\n",
       " 'dOla',\n",
       " 'fOla',\n",
       " 'gOla',\n",
       " 'hOla',\n",
       " 'jOla',\n",
       " 'kOla',\n",
       " 'lOla',\n",
       " 'çOla',\n",
       " 'zOla',\n",
       " 'xOla',\n",
       " 'cOla',\n",
       " 'vOla',\n",
       " 'bOla',\n",
       " 'nOla',\n",
       " 'mOla',\n",
       " 'àOla',\n",
       " 'èOla',\n",
       " 'ìOla',\n",
       " 'òOla',\n",
       " 'ùOla',\n",
       " 'áOla',\n",
       " 'éOla',\n",
       " 'íOla',\n",
       " 'óOla',\n",
       " 'úOla',\n",
       " 'ýOla',\n",
       " 'âOla',\n",
       " 'êOla',\n",
       " 'îOla',\n",
       " 'ôOla',\n",
       " 'ûOla',\n",
       " 'ãOla',\n",
       " 'ñOla',\n",
       " 'õOla',\n",
       " 'äOla',\n",
       " 'ëOla',\n",
       " 'ïOla',\n",
       " 'öOla',\n",
       " 'üOla',\n",
       " 'ÿOla',\n",
       " 'åOla',\n",
       " 'Oqla',\n",
       " 'Owla',\n",
       " 'Oela',\n",
       " 'Orla',\n",
       " 'Otla',\n",
       " 'Oyla',\n",
       " 'Oula',\n",
       " 'Oila',\n",
       " 'Oola',\n",
       " 'Opla',\n",
       " 'Oala',\n",
       " 'Osla',\n",
       " 'Odla',\n",
       " 'Ofla',\n",
       " 'Ogla',\n",
       " 'Ohla',\n",
       " 'Ojla',\n",
       " 'Okla',\n",
       " 'Olla',\n",
       " 'Oçla',\n",
       " 'Ozla',\n",
       " 'Oxla',\n",
       " 'Ocla',\n",
       " 'Ovla',\n",
       " 'Obla',\n",
       " 'Onla',\n",
       " 'Omla',\n",
       " 'Oàla',\n",
       " 'Oèla',\n",
       " 'Oìla',\n",
       " 'Oòla',\n",
       " 'Oùla',\n",
       " 'Oála',\n",
       " 'Oéla',\n",
       " 'Oíla',\n",
       " 'Oóla',\n",
       " 'Oúla',\n",
       " 'Oýla',\n",
       " 'Oâla',\n",
       " 'Oêla',\n",
       " 'Oîla',\n",
       " 'Oôla',\n",
       " 'Oûla',\n",
       " 'Oãla',\n",
       " 'Oñla',\n",
       " 'Oõla',\n",
       " 'Oäla',\n",
       " 'Oëla',\n",
       " 'Oïla',\n",
       " 'Oöla',\n",
       " 'Oüla',\n",
       " 'Oÿla',\n",
       " 'Oåla',\n",
       " 'Olqa',\n",
       " 'Olwa',\n",
       " 'Olea',\n",
       " 'Olra',\n",
       " 'Olta',\n",
       " 'Olya',\n",
       " 'Olua',\n",
       " 'Olia',\n",
       " 'Oloa',\n",
       " 'Olpa',\n",
       " 'Olaa',\n",
       " 'Olsa',\n",
       " 'Olda',\n",
       " 'Olfa',\n",
       " 'Olga',\n",
       " 'Olha',\n",
       " 'Olja',\n",
       " 'Olka',\n",
       " 'Olla',\n",
       " 'Olça',\n",
       " 'Olza',\n",
       " 'Olxa',\n",
       " 'Olca',\n",
       " 'Olva',\n",
       " 'Olba',\n",
       " 'Olna',\n",
       " 'Olma',\n",
       " 'Olàa',\n",
       " 'Olèa',\n",
       " 'Olìa',\n",
       " 'Olòa',\n",
       " 'Olùa',\n",
       " 'Oláa',\n",
       " 'Oléa',\n",
       " 'Olía',\n",
       " 'Olóa',\n",
       " 'Olúa',\n",
       " 'Olýa',\n",
       " 'Olâa',\n",
       " 'Olêa',\n",
       " 'Olîa',\n",
       " 'Olôa',\n",
       " 'Olûa',\n",
       " 'Olãa',\n",
       " 'Olña',\n",
       " 'Olõa',\n",
       " 'Oläa',\n",
       " 'Olëa',\n",
       " 'Olïa',\n",
       " 'Olöa',\n",
       " 'Olüa',\n",
       " 'Olÿa',\n",
       " 'Olåa',\n",
       " 'Olaq',\n",
       " 'Olaw',\n",
       " 'Olae',\n",
       " 'Olar',\n",
       " 'Olat',\n",
       " 'Olay',\n",
       " 'Olau',\n",
       " 'Olai',\n",
       " 'Olao',\n",
       " 'Olap',\n",
       " 'Olaa',\n",
       " 'Olas',\n",
       " 'Olad',\n",
       " 'Olaf',\n",
       " 'Olag',\n",
       " 'Olah',\n",
       " 'Olaj',\n",
       " 'Olak',\n",
       " 'Olal',\n",
       " 'Olaç',\n",
       " 'Olaz',\n",
       " 'Olax',\n",
       " 'Olac',\n",
       " 'Olav',\n",
       " 'Olab',\n",
       " 'Olan',\n",
       " 'Olam',\n",
       " 'Olaà',\n",
       " 'Olaè',\n",
       " 'Olaì',\n",
       " 'Olaò',\n",
       " 'Olaù',\n",
       " 'Olaá',\n",
       " 'Olaé',\n",
       " 'Olaí',\n",
       " 'Olaó',\n",
       " 'Olaú',\n",
       " 'Olaý',\n",
       " 'Olaâ',\n",
       " 'Olaê',\n",
       " 'Olaî',\n",
       " 'Olaô',\n",
       " 'Olaû',\n",
       " 'Olaã',\n",
       " 'Olañ',\n",
       " 'Olaõ',\n",
       " 'Olaä',\n",
       " 'Olaë',\n",
       " 'Olaï',\n",
       " 'Olaö',\n",
       " 'Olaü',\n",
       " 'Olaÿ',\n",
       " 'Olaå']"
      ]
     },
     "execution_count": 24,
     "metadata": {},
     "output_type": "execute_result"
    }
   ],
   "source": [
    "gerador_palavras('Ola')"
   ]
  },
  {
   "cell_type": "code",
   "execution_count": 25,
   "metadata": {},
   "outputs": [
    {
     "name": "stdout",
     "output_type": "stream",
     "text": [
      "['qlgica', 'wlgica', 'elgica', 'rlgica', 'tlgica']\n",
      "['lgicaï', 'lgicaö', 'lgicaü', 'lgicaÿ', 'lgicaå']\n"
     ]
    }
   ],
   "source": [
    "palavras_geradas = gerador_palavras(palavra_exemplo)\n",
    "print(palavras_geradas[:5])\n",
    "print(palavras_geradas[-5:])"
   ]
  },
  {
   "cell_type": "markdown",
   "metadata": {},
   "source": [
    "### Criando uma função que corrige a palávra: "
   ]
  },
  {
   "cell_type": "code",
   "execution_count": 26,
   "metadata": {},
   "outputs": [],
   "source": [
    "def corretor(palavra):\n",
    "    palavras_geradas = gerador_palavras(palavra)\n",
    "    palavra_correta = max(palavras_geradas, key= probabilidade) #'Key= função'.. cálcular a probabilidade das palavras, retornando a palavra com maior probabilidade \n",
    "    \n",
    "    return palavra_correta"
   ]
  },
  {
   "cell_type": "code",
   "execution_count": 27,
   "metadata": {},
   "outputs": [
    {
     "data": {
      "text/plain": [
       "[('de', 15494),\n",
       " ('o', 13969),\n",
       " ('que', 12225),\n",
       " ('a', 11041),\n",
       " ('e', 10480),\n",
       " ('para', 7695),\n",
       " ('um', 6346),\n",
       " ('é', 5881),\n",
       " ('uma', 5202),\n",
       " ('do', 5118)]"
      ]
     },
     "execution_count": 27,
     "metadata": {},
     "output_type": "execute_result"
    }
   ],
   "source": [
    "total_palavras =len(lista_normalizada)\n",
    "frequencia = nltk.FreqDist(lista_normalizada)\n",
    "frequencia.most_common(10)"
   ]
  },
  {
   "cell_type": "code",
   "execution_count": 28,
   "metadata": {},
   "outputs": [],
   "source": [
    "def probabilidade(palavra_gerada):\n",
    "    return frequencia[palavra_gerada]/total_palavras"
   ]
  },
  {
   "cell_type": "code",
   "execution_count": 29,
   "metadata": {},
   "outputs": [
    {
     "data": {
      "text/plain": [
       "0.00021931372450162846"
      ]
     },
     "execution_count": 29,
     "metadata": {},
     "output_type": "execute_result"
    }
   ],
   "source": [
    "probabilidade('lógica')"
   ]
  },
  {
   "cell_type": "code",
   "execution_count": 30,
   "metadata": {},
   "outputs": [
    {
     "data": {
      "text/plain": [
       "0.0"
      ]
     },
     "execution_count": 30,
     "metadata": {},
     "output_type": "execute_result"
    }
   ],
   "source": [
    "probabilidade('logica')"
   ]
  },
  {
   "cell_type": "code",
   "execution_count": 31,
   "metadata": {},
   "outputs": [
    {
     "data": {
      "text/plain": [
       "'lógica'"
      ]
     },
     "execution_count": 31,
     "metadata": {},
     "output_type": "execute_result"
    }
   ],
   "source": [
    "corretor(palavra_exemplo)"
   ]
  },
  {
   "cell_type": "markdown",
   "metadata": {},
   "source": [
    "## Construindo uma função avaliadora, que apresente a taxa de acerto do corretor projetado"
   ]
  },
  {
   "cell_type": "code",
   "execution_count": 32,
   "metadata": {},
   "outputs": [],
   "source": [
    "def cria_dados_teste(nome_arquivo):\n",
    "    lista_palavras_testes = []\n",
    "    f = open (nome_arquivo,'r',encoding =\"utf8\")\n",
    "    \n",
    "    for linha in f:\n",
    "        correta,errada = linha.split()\n",
    "        lista_palavras_testes.append((correta, errada)) \n",
    "    f.close()\n",
    "    return lista_palavras_testes\n",
    "    "
   ]
  },
  {
   "cell_type": "code",
   "execution_count": 33,
   "metadata": {},
   "outputs": [],
   "source": [
    "lista_teste = cria_dados_teste('corretor-master/palavras.txt')"
   ]
  },
  {
   "cell_type": "code",
   "execution_count": 34,
   "metadata": {},
   "outputs": [
    {
     "data": {
      "text/plain": [
       "[('podemos', 'pyodemos'),\n",
       " ('esse', 'esje'),\n",
       " ('já', 'jrá'),\n",
       " ('nosso', 'nossov'),\n",
       " ('são', 'sãêo'),\n",
       " ('dos', 'dosa'),\n",
       " ('muito', 'muifo'),\n",
       " ('imagem', 'iômagem'),\n",
       " ('sua', 'ósua'),\n",
       " ('também', 'tambéùm'),\n",
       " ('ele', 'eme'),\n",
       " ('fazer', 'èazer'),\n",
       " ('temos', 'temfs'),\n",
       " ('essa', 'eàssa'),\n",
       " ('quando', 'quaôdo'),\n",
       " ('vamos', 'vamvos'),\n",
       " ('sobre', 'hsobre'),\n",
       " ('java', 'sjava'),\n",
       " ('das', 'daõs'),\n",
       " ('agora', 'agorah'),\n",
       " ('está', 'eòtá'),\n",
       " ('cada', 'céda'),\n",
       " ('mesmo', 'zmesmo'),\n",
       " ('nos', 'noâ'),\n",
       " ('forma', 'fobma'),\n",
       " ('seja', 'sejéa'),\n",
       " ('então', 'enêão'),\n",
       " ('criar', 'èriar'),\n",
       " ('código', 'cóeigo'),\n",
       " ('caso', 'casío'),\n",
       " ('exemplo', 'áexemplo'),\n",
       " ('tem', 'tĩem'),\n",
       " ('usuário', 'usuárôio'),\n",
       " ('dados', 'dfados'),\n",
       " ('python', 'pgthon'),\n",
       " ('nossa', 'nossah'),\n",
       " ('além', 'alémè'),\n",
       " ('assim', 'asõim'),\n",
       " ('ter', 'teb'),\n",
       " ('até', 'atĩ'),\n",
       " ('bem', 'âem'),\n",
       " ('design', 'desigen'),\n",
       " ('trabalho', 'trabalàho'),\n",
       " ('foi', 'foo'),\n",
       " ('apenas', 'apenaũ'),\n",
       " ('empresa', 'empresà'),\n",
       " ('valor', 'valíor'),\n",
       " ('será', 'serr'),\n",
       " ('entre', 'entke'),\n",
       " ('método', 'méqodo'),\n",
       " ('precisamos', 'precisamops'),\n",
       " ('ainda', 'ainàa'),\n",
       " ('vai', 'van'),\n",
       " ('conteúdo', 'ûconteúdo'),\n",
       " ('seus', 'çeus'),\n",
       " ('eu', 'eû'),\n",
       " ('todos', 'todtos'),\n",
       " ('tempo', 'temeo'),\n",
       " ('sempre', 'semre'),\n",
       " ('qual', 'quakl'),\n",
       " ('ela', 'elaá'),\n",
       " ('só', 'síó'),\n",
       " ('utilizar', 'utiqizar'),\n",
       " ('projeto', 'prhojeto'),\n",
       " ('site', 'siàe'),\n",
       " ('sem', 'seém'),\n",
       " ('pelo', 'peln'),\n",
       " ('alura', 'aléra'),\n",
       " ('dia', 'tdia'),\n",
       " ('tudo', 'tuúo'),\n",
       " ('podemos', 'kpodemos'),\n",
       " ('esse', 'eẽsse'),\n",
       " ('já', 'jé'),\n",
       " ('nosso', 'nçosso'),\n",
       " ('são', 'sãô'),\n",
       " ('dos', 'odos'),\n",
       " ('muito', 'tuito'),\n",
       " ('imagem', 'imõgem'),\n",
       " ('sua', 'siua'),\n",
       " ('também', 'tamvbém'),\n",
       " ('ele', 'elpe'),\n",
       " ('fazer', 'façzer'),\n",
       " ('temos', 'teos'),\n",
       " ('essa', 'eũsa'),\n",
       " ('quando', 'quaìdo'),\n",
       " ('vamos', 'vjmos'),\n",
       " ('sobre', 'sxobre'),\n",
       " ('java', 'jkva'),\n",
       " ('das', 'dms'),\n",
       " ('agora', 'agtora'),\n",
       " ('está', 'esútá'),\n",
       " ('cada', 'cava'),\n",
       " ('mesmo', 'medmo'),\n",
       " ('nos', 'ános'),\n",
       " ('forma', 'forûa'),\n",
       " ('seja', 'smeja'),\n",
       " ('então', 'enjtão'),\n",
       " ('criar', 'criôar'),\n",
       " ('código', 'cóàigo'),\n",
       " ('caso', 'èaso'),\n",
       " ('exemplo', 'exbemplo'),\n",
       " ('tem', 'túem'),\n",
       " ('usuário', 'usuárin'),\n",
       " ('dados', 'daáos'),\n",
       " ('python', 'pythoçn'),\n",
       " ('nossa', 'nossk'),\n",
       " ('além', 'âlém'),\n",
       " ('assim', 'aóssim'),\n",
       " ('ter', 'tãer'),\n",
       " ('até', 'vté'),\n",
       " ('bem', 'búm'),\n",
       " ('design', 'íesign'),\n",
       " ('trabalho', 'trabèalho'),\n",
       " ('foi', 'kfoi'),\n",
       " ('apenas', 'aapenas'),\n",
       " ('empresa', 'pmpresa'),\n",
       " ('valor', 'valoqr'),\n",
       " ('será', 'sçerá'),\n",
       " ('entre', 'entró'),\n",
       " ('método', 'nétodo'),\n",
       " ('precisamos', 'prefcisamos'),\n",
       " ('ainda', 'sainda'),\n",
       " ('vai', 'uai'),\n",
       " ('conteúdo', 'cĩonteúdo'),\n",
       " ('seus', 'sâus'),\n",
       " ('eu', 'ìeu'),\n",
       " ('todos', 'todás'),\n",
       " ('tempo', 'utempo'),\n",
       " ('sempre', 'sempce'),\n",
       " ('qual', 'fual'),\n",
       " ('ela', 'elal'),\n",
       " ('só', 'skó'),\n",
       " ('utilizar', 'utilĩzar'),\n",
       " ('projeto', 'proójeto'),\n",
       " ('site', 'isite'),\n",
       " ('sem', 'secm'),\n",
       " ('pelo', 'pẽlo'),\n",
       " ('alura', 'aluéa'),\n",
       " ('dia', 'dil'),\n",
       " ('tudo', 'tudy'),\n",
       " ('ela', 'qelay'),\n",
       " ('só', 'sód'),\n",
       " ('utilizar', 'dtilizacr'),\n",
       " ('projeto', 'bprojõto'),\n",
       " ('site', 'ysiteo'),\n",
       " ('sem', 'sõêm'),\n",
       " ('pelo', 'peàli'),\n",
       " ('alura', 'asuraó'),\n",
       " ('dia', 'deiìa'),\n",
       " ('tudo', 'tuĩdoì'),\n",
       " ('ela', 'eúaa'),\n",
       " ('só', 'ró'),\n",
       " ('utilizar', 'utilizẽaçr'),\n",
       " ('projeto', 'prêjetó'),\n",
       " ('site', 'sqiqte'),\n",
       " ('sem', 'sũexm'),\n",
       " ('pelo', 'pçlxo'),\n",
       " ('alura', 'uluraa'),\n",
       " ('dia', 'dĩaz'),\n",
       " ('tudo', 'kzudo'),\n",
       " ('corretor', 'correptor'),\n",
       " ('tática', 'trtica'),\n",
       " ('empoderamento', 'ewpoderamento'),\n",
       " ('linux', 'lifux'),\n",
       " ('cachorro', 'cachoçro'),\n",
       " ('gato', 'îgato'),\n",
       " ('cavalo', 'cakvalo'),\n",
       " ('relógio', 'relógiuo'),\n",
       " ('canela', 'canelac'),\n",
       " ('tênis', 'tênisy'),\n",
       " ('ansiosa', 'anciosa'),\n",
       " ('ansiosa', 'ancciosa'),\n",
       " ('ansiosa', 'ansioa'),\n",
       " ('empoderamento', 'empoderamento'),\n",
       " ('asterisco', 'asterístico'),\n",
       " ('gratuito', 'gratuíto'),\n",
       " ('entretido', 'entertido'),\n",
       " ('ritmo', 'ritimo'),\n",
       " ('idiota', 'indiota'),\n",
       " ('tomara', 'tomare'),\n",
       " ('seja', 'seje'),\n",
       " ('prevalecer', 'provalecer'),\n",
       " ('esteja', 'esteje'),\n",
       " ('mendigo', 'mindigo'),\n",
       " ('cérebro', 'célebro'),\n",
       " ('perturbar', 'pertubar')]"
      ]
     },
     "execution_count": 34,
     "metadata": {},
     "output_type": "execute_result"
    }
   ],
   "source": [
    "lista_teste"
   ]
  },
  {
   "cell_type": "code",
   "execution_count": 35,
   "metadata": {},
   "outputs": [],
   "source": [
    "def avaliador(testes):\n",
    "    numero_palavras = len(testes)\n",
    "    acertou=0\n",
    "    \n",
    "    for correta, errada in testes:\n",
    "        palavra_corrigida = corretor(errada)\n",
    "        if palavra_corrigida == correta:\n",
    "            acertou += 1\n",
    "    taxa_acerto = acertou/numero_palavras\n",
    "    print(f'''\n",
    "    taxa de acerto: {round(taxa_acerto*100,2)}% \n",
    "    total de palavras: {numero_palavras}''')"
   ]
  },
  {
   "cell_type": "code",
   "execution_count": 36,
   "metadata": {},
   "outputs": [
    {
     "name": "stdout",
     "output_type": "stream",
     "text": [
      "\n",
      "    taxa de acerto: 1.08% \n",
      "    total de palavras: 186\n"
     ]
    }
   ],
   "source": [
    "avaliador(lista_teste)"
   ]
  },
  {
   "cell_type": "markdown",
   "metadata": {},
   "source": [
    "## Criando função que deleta caractéres:"
   ]
  },
  {
   "cell_type": "code",
   "execution_count": 37,
   "metadata": {},
   "outputs": [],
   "source": [
    "def deletando_caracteres(fatias):\n",
    "    novas_palavras = []\n",
    "    \n",
    "    for E,D in fatias:\n",
    "        novas_palavras.append(E + D[1:])\n",
    "        \n",
    "    return novas_palavras"
   ]
  },
  {
   "cell_type": "code",
   "execution_count": 38,
   "metadata": {},
   "outputs": [],
   "source": [
    "def gerador_palavras(palavra):\n",
    "    fatias = []\n",
    "    for i in range(len(palavra)+1):\n",
    "        fatias.append((palavra[:i], palavra[i:]))\n",
    "       \n",
    "    \n",
    "    palavras_geradas = insere_letras(fatias)\n",
    "    palavras_geradas += deletando_caracteres(fatias)\n",
    "    \n",
    "   \n",
    "    return palavras_geradas\n"
   ]
  },
  {
   "cell_type": "code",
   "execution_count": 39,
   "metadata": {},
   "outputs": [
    {
     "name": "stdout",
     "output_type": "stream",
     "text": [
      "['qlóigica', 'wlóigica', 'elóigica', 'rlóigica', 'tlóigica', 'ylóigica', 'ulóigica', 'ilóigica', 'olóigica', 'plóigica', 'alóigica', 'slóigica', 'dlóigica', 'flóigica', 'glóigica', 'hlóigica', 'jlóigica', 'klóigica', 'llóigica', 'çlóigica', 'zlóigica', 'xlóigica', 'clóigica', 'vlóigica', 'blóigica', 'nlóigica', 'mlóigica', 'àlóigica', 'èlóigica', 'ìlóigica', 'òlóigica', 'ùlóigica', 'álóigica', 'élóigica', 'ílóigica', 'ólóigica', 'úlóigica', 'ýlóigica', 'âlóigica', 'êlóigica', 'îlóigica', 'ôlóigica', 'ûlóigica', 'ãlóigica', 'ñlóigica', 'õlóigica', 'älóigica', 'ëlóigica', 'ïlóigica', 'ölóigica', 'ülóigica', 'ÿlóigica', 'ålóigica', 'lqóigica', 'lwóigica', 'leóigica', 'lróigica', 'ltóigica', 'lyóigica', 'luóigica', 'lióigica', 'loóigica', 'lpóigica', 'laóigica', 'lsóigica', 'ldóigica', 'lfóigica', 'lgóigica', 'lhóigica', 'ljóigica', 'lkóigica', 'llóigica', 'lçóigica', 'lzóigica', 'lxóigica', 'lcóigica', 'lvóigica', 'lbóigica', 'lnóigica', 'lmóigica', 'làóigica', 'lèóigica', 'lìóigica', 'lòóigica', 'lùóigica', 'láóigica', 'léóigica', 'líóigica', 'lóóigica', 'lúóigica', 'lýóigica', 'lâóigica', 'lêóigica', 'lîóigica', 'lôóigica', 'lûóigica', 'lãóigica', 'lñóigica', 'lõóigica', 'läóigica', 'lëóigica', 'lïóigica', 'löóigica', 'lüóigica', 'lÿóigica', 'låóigica', 'lóqigica', 'lówigica', 'lóeigica', 'lórigica', 'lótigica', 'lóyigica', 'lóuigica', 'lóiigica', 'lóoigica', 'lópigica', 'lóaigica', 'lósigica', 'lódigica', 'lófigica', 'lógigica', 'lóhigica', 'lójigica', 'lókigica', 'lóligica', 'lóçigica', 'lózigica', 'lóxigica', 'lócigica', 'lóvigica', 'lóbigica', 'lónigica', 'lómigica', 'lóàigica', 'lóèigica', 'lóìigica', 'lóòigica', 'lóùigica', 'lóáigica', 'lóéigica', 'lóíigica', 'lóóigica', 'lóúigica', 'lóýigica', 'lóâigica', 'lóêigica', 'lóîigica', 'lóôigica', 'lóûigica', 'lóãigica', 'lóñigica', 'lóõigica', 'lóäigica', 'lóëigica', 'lóïigica', 'lóöigica', 'lóüigica', 'lóÿigica', 'lóåigica', 'lóiqgica', 'lóiwgica', 'lóiegica', 'lóirgica', 'lóitgica', 'lóiygica', 'lóiugica', 'lóiigica', 'lóiogica', 'lóipgica', 'lóiagica', 'lóisgica', 'lóidgica', 'lóifgica', 'lóiggica', 'lóihgica', 'lóijgica', 'lóikgica', 'lóilgica', 'lóiçgica', 'lóizgica', 'lóixgica', 'lóicgica', 'lóivgica', 'lóibgica', 'lóingica', 'lóimgica', 'lóiàgica', 'lóiègica', 'lóiìgica', 'lóiògica', 'lóiùgica', 'lóiágica', 'lóiégica', 'lóiígica', 'lóiógica', 'lóiúgica', 'lóiýgica', 'lóiâgica', 'lóiêgica', 'lóiîgica', 'lóiôgica', 'lóiûgica', 'lóiãgica', 'lóiñgica', 'lóiõgica', 'lóiägica', 'lóiëgica', 'lóiïgica', 'lóiögica', 'lóiügica', 'lóiÿgica', 'lóiågica', 'lóigqica', 'lóigwica', 'lóigeica', 'lóigrica', 'lóigtica', 'lóigyica', 'lóiguica', 'lóigiica', 'lóigoica', 'lóigpica', 'lóigaica', 'lóigsica', 'lóigdica', 'lóigfica', 'lóiggica', 'lóighica', 'lóigjica', 'lóigkica', 'lóiglica', 'lóigçica', 'lóigzica', 'lóigxica', 'lóigcica', 'lóigvica', 'lóigbica', 'lóignica', 'lóigmica', 'lóigàica', 'lóigèica', 'lóigìica', 'lóigòica', 'lóigùica', 'lóigáica', 'lóigéica', 'lóigíica', 'lóigóica', 'lóigúica', 'lóigýica', 'lóigâica', 'lóigêica', 'lóigîica', 'lóigôica', 'lóigûica', 'lóigãica', 'lóigñica', 'lóigõica', 'lóigäica', 'lóigëica', 'lóigïica', 'lóigöica', 'lóigüica', 'lóigÿica', 'lóigåica', 'lóigiqca', 'lóigiwca', 'lóigieca', 'lóigirca', 'lóigitca', 'lóigiyca', 'lóigiuca', 'lóigiica', 'lóigioca', 'lóigipca', 'lóigiaca', 'lóigisca', 'lóigidca', 'lóigifca', 'lóigigca', 'lóigihca', 'lóigijca', 'lóigikca', 'lóigilca', 'lóigiçca', 'lóigizca', 'lóigixca', 'lóigicca', 'lóigivca', 'lóigibca', 'lóiginca', 'lóigimca', 'lóigiàca', 'lóigièca', 'lóigiìca', 'lóigiòca', 'lóigiùca', 'lóigiáca', 'lóigiéca', 'lóigiíca', 'lóigióca', 'lóigiúca', 'lóigiýca', 'lóigiâca', 'lóigiêca', 'lóigiîca', 'lóigiôca', 'lóigiûca', 'lóigiãca', 'lóigiñca', 'lóigiõca', 'lóigiäca', 'lóigiëca', 'lóigiïca', 'lóigiöca', 'lóigiüca', 'lóigiÿca', 'lóigiåca', 'lóigicqa', 'lóigicwa', 'lóigicea', 'lóigicra', 'lóigicta', 'lóigicya', 'lóigicua', 'lóigicia', 'lóigicoa', 'lóigicpa', 'lóigicaa', 'lóigicsa', 'lóigicda', 'lóigicfa', 'lóigicga', 'lóigicha', 'lóigicja', 'lóigicka', 'lóigicla', 'lóigicça', 'lóigicza', 'lóigicxa', 'lóigicca', 'lóigicva', 'lóigicba', 'lóigicna', 'lóigicma', 'lóigicàa', 'lóigicèa', 'lóigicìa', 'lóigicòa', 'lóigicùa', 'lóigicáa', 'lóigicéa', 'lóigicía', 'lóigicóa', 'lóigicúa', 'lóigicýa', 'lóigicâa', 'lóigicêa', 'lóigicîa', 'lóigicôa', 'lóigicûa', 'lóigicãa', 'lóigicña', 'lóigicõa', 'lóigicäa', 'lóigicëa', 'lóigicïa', 'lóigicöa', 'lóigicüa', 'lóigicÿa', 'lóigicåa', 'lóigicaq', 'lóigicaw', 'lóigicae', 'lóigicar', 'lóigicat', 'lóigicay', 'lóigicau', 'lóigicai', 'lóigicao', 'lóigicap', 'lóigicaa', 'lóigicas', 'lóigicad', 'lóigicaf', 'lóigicag', 'lóigicah', 'lóigicaj', 'lóigicak', 'lóigical', 'lóigicaç', 'lóigicaz', 'lóigicax', 'lóigicac', 'lóigicav', 'lóigicab', 'lóigican', 'lóigicam', 'lóigicaà', 'lóigicaè', 'lóigicaì', 'lóigicaò', 'lóigicaù', 'lóigicaá', 'lóigicaé', 'lóigicaí', 'lóigicaó', 'lóigicaú', 'lóigicaý', 'lóigicaâ', 'lóigicaê', 'lóigicaî', 'lóigicaô', 'lóigicaû', 'lóigicaã', 'lóigicañ', 'lóigicaõ', 'lóigicaä', 'lóigicaë', 'lóigicaï', 'lóigicaö', 'lóigicaü', 'lóigicaÿ', 'lóigicaå', 'óigica', 'ligica', 'lógica', 'lóiica', 'lóigca', 'lóigia', 'lóigic', 'lóigica']\n"
     ]
    }
   ],
   "source": [
    "palavra_exemplo = 'lóigica'\n",
    "palavras_geradas = gerador_palavras(palavra_exemplo)\n",
    "\n",
    "\n",
    "print(palavras_geradas)"
   ]
  },
  {
   "cell_type": "code",
   "execution_count": 40,
   "metadata": {},
   "outputs": [
    {
     "name": "stdout",
     "output_type": "stream",
     "text": [
      "\n",
      "    taxa de acerto: 41.4% \n",
      "    total de palavras: 186\n"
     ]
    }
   ],
   "source": [
    "avaliador(lista_teste)"
   ]
  },
  {
   "cell_type": "code",
   "execution_count": 41,
   "metadata": {},
   "outputs": [],
   "source": [
    "\n",
    "\n",
    "\n",
    "def insere_letras(fatias):\n",
    "    novas_palavras = []\n",
    "    letras = 'qwertyuiopasdfghjklçzxcvbnmàèìòùáéíóúýâêîôûãñõäëïöüÿå'\n",
    "    \n",
    "    for E,D in fatias:\n",
    "        for letra in letras:\n",
    "            novas_palavras.append(E + letra + D)\n",
    "        \n",
    "    return novas_palavras\n",
    "\n",
    "\n",
    "\n",
    "def deletando_caracteres(fatias):\n",
    "    novas_palavras = []\n",
    "    \n",
    "    for E,D in fatias:\n",
    "        novas_palavras.append(E + D[1:])\n",
    "        \n",
    "    return novas_palavras\n",
    "\n",
    "\n",
    "\n",
    "def troca_letra(fatias):\n",
    "    \n",
    "    novas_palavras = []\n",
    "    letras = 'qwertyuiopasdfghjklçzxcvbnmàèìòùáéíóúýâêîôûãñõäëïöüÿå'\n",
    "    \n",
    "    for E,D in fatias:\n",
    "        for letra in letras:\n",
    "            novas_palavras.append(E + letra + D[1:])\n",
    "        \n",
    "    return novas_palavras\n",
    "\n",
    "\n",
    "\n",
    "def gerador_palavras(palavra):\n",
    "    fatias = []\n",
    "    for i in range(len(palavra)+1):\n",
    "        fatias.append((palavra[:i], palavra[i:]))\n",
    "       \n",
    "    \n",
    "    palavras_geradas = insere_letras(fatias)\n",
    "    palavras_geradas += deletando_caracteres(fatias)\n",
    "    palavras_geradas += troca_letra(fatias)\n",
    "   \n",
    "    return palavras_geradas"
   ]
  },
  {
   "cell_type": "code",
   "execution_count": 42,
   "metadata": {},
   "outputs": [
    {
     "name": "stdout",
     "output_type": "stream",
     "text": [
      "['qlìgica', 'wlìgica', 'elìgica', 'rlìgica', 'tlìgica', 'ylìgica', 'ulìgica', 'ilìgica', 'olìgica', 'plìgica', 'alìgica', 'slìgica', 'dlìgica', 'flìgica', 'glìgica', 'hlìgica', 'jlìgica', 'klìgica', 'llìgica', 'çlìgica', 'zlìgica', 'xlìgica', 'clìgica', 'vlìgica', 'blìgica', 'nlìgica', 'mlìgica', 'àlìgica', 'èlìgica', 'ìlìgica', 'òlìgica', 'ùlìgica', 'álìgica', 'élìgica', 'ílìgica', 'ólìgica', 'úlìgica', 'ýlìgica', 'âlìgica', 'êlìgica', 'îlìgica', 'ôlìgica', 'ûlìgica', 'ãlìgica', 'ñlìgica', 'õlìgica', 'älìgica', 'ëlìgica', 'ïlìgica', 'ölìgica', 'ülìgica', 'ÿlìgica', 'ålìgica', 'lqìgica', 'lwìgica', 'leìgica', 'lrìgica', 'ltìgica', 'lyìgica', 'luìgica', 'liìgica', 'loìgica', 'lpìgica', 'laìgica', 'lsìgica', 'ldìgica', 'lfìgica', 'lgìgica', 'lhìgica', 'ljìgica', 'lkìgica', 'llìgica', 'lçìgica', 'lzìgica', 'lxìgica', 'lcìgica', 'lvìgica', 'lbìgica', 'lnìgica', 'lmìgica', 'làìgica', 'lèìgica', 'lììgica', 'lòìgica', 'lùìgica', 'láìgica', 'léìgica', 'líìgica', 'lóìgica', 'lúìgica', 'lýìgica', 'lâìgica', 'lêìgica', 'lîìgica', 'lôìgica', 'lûìgica', 'lãìgica', 'lñìgica', 'lõìgica', 'läìgica', 'lëìgica', 'lïìgica', 'löìgica', 'lüìgica', 'lÿìgica', 'låìgica', 'lìqgica', 'lìwgica', 'lìegica', 'lìrgica', 'lìtgica', 'lìygica', 'lìugica', 'lìigica', 'lìogica', 'lìpgica', 'lìagica', 'lìsgica', 'lìdgica', 'lìfgica', 'lìggica', 'lìhgica', 'lìjgica', 'lìkgica', 'lìlgica', 'lìçgica', 'lìzgica', 'lìxgica', 'lìcgica', 'lìvgica', 'lìbgica', 'lìngica', 'lìmgica', 'lìàgica', 'lìègica', 'lììgica', 'lìògica', 'lìùgica', 'lìágica', 'lìégica', 'lìígica', 'lìógica', 'lìúgica', 'lìýgica', 'lìâgica', 'lìêgica', 'lìîgica', 'lìôgica', 'lìûgica', 'lìãgica', 'lìñgica', 'lìõgica', 'lìägica', 'lìëgica', 'lìïgica', 'lìögica', 'lìügica', 'lìÿgica', 'lìågica', 'lìgqica', 'lìgwica', 'lìgeica', 'lìgrica', 'lìgtica', 'lìgyica', 'lìguica', 'lìgiica', 'lìgoica', 'lìgpica', 'lìgaica', 'lìgsica', 'lìgdica', 'lìgfica', 'lìggica', 'lìghica', 'lìgjica', 'lìgkica', 'lìglica', 'lìgçica', 'lìgzica', 'lìgxica', 'lìgcica', 'lìgvica', 'lìgbica', 'lìgnica', 'lìgmica', 'lìgàica', 'lìgèica', 'lìgìica', 'lìgòica', 'lìgùica', 'lìgáica', 'lìgéica', 'lìgíica', 'lìgóica', 'lìgúica', 'lìgýica', 'lìgâica', 'lìgêica', 'lìgîica', 'lìgôica', 'lìgûica', 'lìgãica', 'lìgñica', 'lìgõica', 'lìgäica', 'lìgëica', 'lìgïica', 'lìgöica', 'lìgüica', 'lìgÿica', 'lìgåica', 'lìgiqca', 'lìgiwca', 'lìgieca', 'lìgirca', 'lìgitca', 'lìgiyca', 'lìgiuca', 'lìgiica', 'lìgioca', 'lìgipca', 'lìgiaca', 'lìgisca', 'lìgidca', 'lìgifca', 'lìgigca', 'lìgihca', 'lìgijca', 'lìgikca', 'lìgilca', 'lìgiçca', 'lìgizca', 'lìgixca', 'lìgicca', 'lìgivca', 'lìgibca', 'lìginca', 'lìgimca', 'lìgiàca', 'lìgièca', 'lìgiìca', 'lìgiòca', 'lìgiùca', 'lìgiáca', 'lìgiéca', 'lìgiíca', 'lìgióca', 'lìgiúca', 'lìgiýca', 'lìgiâca', 'lìgiêca', 'lìgiîca', 'lìgiôca', 'lìgiûca', 'lìgiãca', 'lìgiñca', 'lìgiõca', 'lìgiäca', 'lìgiëca', 'lìgiïca', 'lìgiöca', 'lìgiüca', 'lìgiÿca', 'lìgiåca', 'lìgicqa', 'lìgicwa', 'lìgicea', 'lìgicra', 'lìgicta', 'lìgicya', 'lìgicua', 'lìgicia', 'lìgicoa', 'lìgicpa', 'lìgicaa', 'lìgicsa', 'lìgicda', 'lìgicfa', 'lìgicga', 'lìgicha', 'lìgicja', 'lìgicka', 'lìgicla', 'lìgicça', 'lìgicza', 'lìgicxa', 'lìgicca', 'lìgicva', 'lìgicba', 'lìgicna', 'lìgicma', 'lìgicàa', 'lìgicèa', 'lìgicìa', 'lìgicòa', 'lìgicùa', 'lìgicáa', 'lìgicéa', 'lìgicía', 'lìgicóa', 'lìgicúa', 'lìgicýa', 'lìgicâa', 'lìgicêa', 'lìgicîa', 'lìgicôa', 'lìgicûa', 'lìgicãa', 'lìgicña', 'lìgicõa', 'lìgicäa', 'lìgicëa', 'lìgicïa', 'lìgicöa', 'lìgicüa', 'lìgicÿa', 'lìgicåa', 'lìgicaq', 'lìgicaw', 'lìgicae', 'lìgicar', 'lìgicat', 'lìgicay', 'lìgicau', 'lìgicai', 'lìgicao', 'lìgicap', 'lìgicaa', 'lìgicas', 'lìgicad', 'lìgicaf', 'lìgicag', 'lìgicah', 'lìgicaj', 'lìgicak', 'lìgical', 'lìgicaç', 'lìgicaz', 'lìgicax', 'lìgicac', 'lìgicav', 'lìgicab', 'lìgican', 'lìgicam', 'lìgicaà', 'lìgicaè', 'lìgicaì', 'lìgicaò', 'lìgicaù', 'lìgicaá', 'lìgicaé', 'lìgicaí', 'lìgicaó', 'lìgicaú', 'lìgicaý', 'lìgicaâ', 'lìgicaê', 'lìgicaî', 'lìgicaô', 'lìgicaû', 'lìgicaã', 'lìgicañ', 'lìgicaõ', 'lìgicaä', 'lìgicaë', 'lìgicaï', 'lìgicaö', 'lìgicaü', 'lìgicaÿ', 'lìgicaå', 'ìgica', 'lgica', 'lìica', 'lìgca', 'lìgia', 'lìgic', 'lìgica', 'qìgica', 'wìgica', 'eìgica', 'rìgica', 'tìgica', 'yìgica', 'uìgica', 'iìgica', 'oìgica', 'pìgica', 'aìgica', 'sìgica', 'dìgica', 'fìgica', 'gìgica', 'hìgica', 'jìgica', 'kìgica', 'lìgica', 'çìgica', 'zìgica', 'xìgica', 'cìgica', 'vìgica', 'bìgica', 'nìgica', 'mìgica', 'àìgica', 'èìgica', 'ììgica', 'òìgica', 'ùìgica', 'áìgica', 'éìgica', 'íìgica', 'óìgica', 'úìgica', 'ýìgica', 'âìgica', 'êìgica', 'îìgica', 'ôìgica', 'ûìgica', 'ãìgica', 'ñìgica', 'õìgica', 'äìgica', 'ëìgica', 'ïìgica', 'öìgica', 'üìgica', 'ÿìgica', 'åìgica', 'lqgica', 'lwgica', 'legica', 'lrgica', 'ltgica', 'lygica', 'lugica', 'ligica', 'logica', 'lpgica', 'lagica', 'lsgica', 'ldgica', 'lfgica', 'lggica', 'lhgica', 'ljgica', 'lkgica', 'llgica', 'lçgica', 'lzgica', 'lxgica', 'lcgica', 'lvgica', 'lbgica', 'lngica', 'lmgica', 'làgica', 'lègica', 'lìgica', 'lògica', 'lùgica', 'lágica', 'légica', 'lígica', 'lógica', 'lúgica', 'lýgica', 'lâgica', 'lêgica', 'lîgica', 'lôgica', 'lûgica', 'lãgica', 'lñgica', 'lõgica', 'lägica', 'lëgica', 'lïgica', 'lögica', 'lügica', 'lÿgica', 'lågica', 'lìqica', 'lìwica', 'lìeica', 'lìrica', 'lìtica', 'lìyica', 'lìuica', 'lìiica', 'lìoica', 'lìpica', 'lìaica', 'lìsica', 'lìdica', 'lìfica', 'lìgica', 'lìhica', 'lìjica', 'lìkica', 'lìlica', 'lìçica', 'lìzica', 'lìxica', 'lìcica', 'lìvica', 'lìbica', 'lìnica', 'lìmica', 'lìàica', 'lìèica', 'lììica', 'lìòica', 'lìùica', 'lìáica', 'lìéica', 'lìíica', 'lìóica', 'lìúica', 'lìýica', 'lìâica', 'lìêica', 'lìîica', 'lìôica', 'lìûica', 'lìãica', 'lìñica', 'lìõica', 'lìäica', 'lìëica', 'lìïica', 'lìöica', 'lìüica', 'lìÿica', 'lìåica', 'lìgqca', 'lìgwca', 'lìgeca', 'lìgrca', 'lìgtca', 'lìgyca', 'lìguca', 'lìgica', 'lìgoca', 'lìgpca', 'lìgaca', 'lìgsca', 'lìgdca', 'lìgfca', 'lìggca', 'lìghca', 'lìgjca', 'lìgkca', 'lìglca', 'lìgçca', 'lìgzca', 'lìgxca', 'lìgcca', 'lìgvca', 'lìgbca', 'lìgnca', 'lìgmca', 'lìgàca', 'lìgèca', 'lìgìca', 'lìgòca', 'lìgùca', 'lìgáca', 'lìgéca', 'lìgíca', 'lìgóca', 'lìgúca', 'lìgýca', 'lìgâca', 'lìgêca', 'lìgîca', 'lìgôca', 'lìgûca', 'lìgãca', 'lìgñca', 'lìgõca', 'lìgäca', 'lìgëca', 'lìgïca', 'lìgöca', 'lìgüca', 'lìgÿca', 'lìgåca', 'lìgiqa', 'lìgiwa', 'lìgiea', 'lìgira', 'lìgita', 'lìgiya', 'lìgiua', 'lìgiia', 'lìgioa', 'lìgipa', 'lìgiaa', 'lìgisa', 'lìgida', 'lìgifa', 'lìgiga', 'lìgiha', 'lìgija', 'lìgika', 'lìgila', 'lìgiça', 'lìgiza', 'lìgixa', 'lìgica', 'lìgiva', 'lìgiba', 'lìgina', 'lìgima', 'lìgiàa', 'lìgièa', 'lìgiìa', 'lìgiòa', 'lìgiùa', 'lìgiáa', 'lìgiéa', 'lìgiía', 'lìgióa', 'lìgiúa', 'lìgiýa', 'lìgiâa', 'lìgiêa', 'lìgiîa', 'lìgiôa', 'lìgiûa', 'lìgiãa', 'lìgiña', 'lìgiõa', 'lìgiäa', 'lìgiëa', 'lìgiïa', 'lìgiöa', 'lìgiüa', 'lìgiÿa', 'lìgiåa', 'lìgicq', 'lìgicw', 'lìgice', 'lìgicr', 'lìgict', 'lìgicy', 'lìgicu', 'lìgici', 'lìgico', 'lìgicp', 'lìgica', 'lìgics', 'lìgicd', 'lìgicf', 'lìgicg', 'lìgich', 'lìgicj', 'lìgick', 'lìgicl', 'lìgicç', 'lìgicz', 'lìgicx', 'lìgicc', 'lìgicv', 'lìgicb', 'lìgicn', 'lìgicm', 'lìgicà', 'lìgicè', 'lìgicì', 'lìgicò', 'lìgicù', 'lìgicá', 'lìgicé', 'lìgicí', 'lìgicó', 'lìgicú', 'lìgicý', 'lìgicâ', 'lìgicê', 'lìgicî', 'lìgicô', 'lìgicû', 'lìgicã', 'lìgicñ', 'lìgicõ', 'lìgicä', 'lìgicë', 'lìgicï', 'lìgicö', 'lìgicü', 'lìgicÿ', 'lìgicå', 'lìgicaq', 'lìgicaw', 'lìgicae', 'lìgicar', 'lìgicat', 'lìgicay', 'lìgicau', 'lìgicai', 'lìgicao', 'lìgicap', 'lìgicaa', 'lìgicas', 'lìgicad', 'lìgicaf', 'lìgicag', 'lìgicah', 'lìgicaj', 'lìgicak', 'lìgical', 'lìgicaç', 'lìgicaz', 'lìgicax', 'lìgicac', 'lìgicav', 'lìgicab', 'lìgican', 'lìgicam', 'lìgicaà', 'lìgicaè', 'lìgicaì', 'lìgicaò', 'lìgicaù', 'lìgicaá', 'lìgicaé', 'lìgicaí', 'lìgicaó', 'lìgicaú', 'lìgicaý', 'lìgicaâ', 'lìgicaê', 'lìgicaî', 'lìgicaô', 'lìgicaû', 'lìgicaã', 'lìgicañ', 'lìgicaõ', 'lìgicaä', 'lìgicaë', 'lìgicaï', 'lìgicaö', 'lìgicaü', 'lìgicaÿ', 'lìgicaå']\n"
     ]
    }
   ],
   "source": [
    "palavra_exemplo = 'lìgica'\n",
    "palavras_geradas = gerador_palavras(palavra_exemplo)\n",
    "\n",
    "\n",
    "print(palavras_geradas)"
   ]
  },
  {
   "cell_type": "code",
   "execution_count": 43,
   "metadata": {},
   "outputs": [
    {
     "name": "stdout",
     "output_type": "stream",
     "text": [
      "\n",
      "    taxa de acerto: 76.34% \n",
      "    total de palavras: 186\n"
     ]
    }
   ],
   "source": [
    "avaliador(lista_teste)"
   ]
  },
  {
   "cell_type": "code",
   "execution_count": 44,
   "metadata": {},
   "outputs": [],
   "source": [
    "\n",
    "def insere_letras(fatias):\n",
    "    novas_palavras = []\n",
    "    letras = 'qwertyuiopasdfghjklçzxcvbnmàèìòùáéíóúýâêîôûãñõäëïöüÿå'\n",
    "    \n",
    "    for E,D in fatias:\n",
    "        for letra in letras:\n",
    "            novas_palavras.append(E + letra + D)\n",
    "        \n",
    "    return novas_palavras\n",
    "\n",
    "\n",
    "\n",
    "def deletando_caracteres(fatias):\n",
    "    novas_palavras = []\n",
    "    \n",
    "    for E,D in fatias:\n",
    "        novas_palavras.append(E + D[1:])\n",
    "        \n",
    "    return novas_palavras\n",
    "\n",
    "\n",
    "\n",
    "def troca_letra(fatias):\n",
    "    \n",
    "    novas_palavras = []\n",
    "    letras = 'qwertyuiopasdfghjklçzxcvbnmàèìòùáéíóúýâêîôûãñõäëïöüÿå'\n",
    "    \n",
    "    for E,D in fatias:\n",
    "        for letra in letras:\n",
    "            novas_palavras.append(E + letra + D[1:])\n",
    "        \n",
    "    return novas_palavras\n",
    "\n",
    "\n",
    "\n",
    "def inverte_letra(fatias):\n",
    "    novas_palavras = []\n",
    "    \n",
    "    for E,D in fatias:\n",
    "        if len(D)>1:\n",
    "            novas_palavras.append(E + D[1]+D[0] + D[2:])\n",
    "        \n",
    "    return novas_palavras\n",
    "\n",
    "\n",
    "\n",
    "def gerador_palavras(palavra):\n",
    "    fatias = []\n",
    "    for i in range(len(palavra)+1):\n",
    "        fatias.append((palavra[:i], palavra[i:]))\n",
    "       \n",
    "    \n",
    "    palavras_geradas = insere_letras(fatias)\n",
    "    palavras_geradas += deletando_caracteres(fatias)\n",
    "    palavras_geradas += troca_letra(fatias)\n",
    "    palavras_geradas += inverte_letra(fatias)\n",
    "   \n",
    "    return palavras_geradas"
   ]
  },
  {
   "cell_type": "code",
   "execution_count": 45,
   "metadata": {},
   "outputs": [
    {
     "name": "stdout",
     "output_type": "stream",
     "text": [
      "['qlgóica', 'wlgóica', 'elgóica', 'rlgóica', 'tlgóica', 'ylgóica', 'ulgóica', 'ilgóica', 'olgóica', 'plgóica', 'algóica', 'slgóica', 'dlgóica', 'flgóica', 'glgóica', 'hlgóica', 'jlgóica', 'klgóica', 'llgóica', 'çlgóica', 'zlgóica', 'xlgóica', 'clgóica', 'vlgóica', 'blgóica', 'nlgóica', 'mlgóica', 'àlgóica', 'èlgóica', 'ìlgóica', 'òlgóica', 'ùlgóica', 'álgóica', 'élgóica', 'ílgóica', 'ólgóica', 'úlgóica', 'ýlgóica', 'âlgóica', 'êlgóica', 'îlgóica', 'ôlgóica', 'ûlgóica', 'ãlgóica', 'ñlgóica', 'õlgóica', 'älgóica', 'ëlgóica', 'ïlgóica', 'ölgóica', 'ülgóica', 'ÿlgóica', 'ålgóica', 'lqgóica', 'lwgóica', 'legóica', 'lrgóica', 'ltgóica', 'lygóica', 'lugóica', 'ligóica', 'logóica', 'lpgóica', 'lagóica', 'lsgóica', 'ldgóica', 'lfgóica', 'lggóica', 'lhgóica', 'ljgóica', 'lkgóica', 'llgóica', 'lçgóica', 'lzgóica', 'lxgóica', 'lcgóica', 'lvgóica', 'lbgóica', 'lngóica', 'lmgóica', 'làgóica', 'lègóica', 'lìgóica', 'lògóica', 'lùgóica', 'lágóica', 'légóica', 'lígóica', 'lógóica', 'lúgóica', 'lýgóica', 'lâgóica', 'lêgóica', 'lîgóica', 'lôgóica', 'lûgóica', 'lãgóica', 'lñgóica', 'lõgóica', 'lägóica', 'lëgóica', 'lïgóica', 'lögóica', 'lügóica', 'lÿgóica', 'lågóica', 'lgqóica', 'lgwóica', 'lgeóica', 'lgróica', 'lgtóica', 'lgyóica', 'lguóica', 'lgióica', 'lgoóica', 'lgpóica', 'lgaóica', 'lgsóica', 'lgdóica', 'lgfóica', 'lggóica', 'lghóica', 'lgjóica', 'lgkóica', 'lglóica', 'lgçóica', 'lgzóica', 'lgxóica', 'lgcóica', 'lgvóica', 'lgbóica', 'lgnóica', 'lgmóica', 'lgàóica', 'lgèóica', 'lgìóica', 'lgòóica', 'lgùóica', 'lgáóica', 'lgéóica', 'lgíóica', 'lgóóica', 'lgúóica', 'lgýóica', 'lgâóica', 'lgêóica', 'lgîóica', 'lgôóica', 'lgûóica', 'lgãóica', 'lgñóica', 'lgõóica', 'lgäóica', 'lgëóica', 'lgïóica', 'lgöóica', 'lgüóica', 'lgÿóica', 'lgåóica', 'lgóqica', 'lgówica', 'lgóeica', 'lgórica', 'lgótica', 'lgóyica', 'lgóuica', 'lgóiica', 'lgóoica', 'lgópica', 'lgóaica', 'lgósica', 'lgódica', 'lgófica', 'lgógica', 'lgóhica', 'lgójica', 'lgókica', 'lgólica', 'lgóçica', 'lgózica', 'lgóxica', 'lgócica', 'lgóvica', 'lgóbica', 'lgónica', 'lgómica', 'lgóàica', 'lgóèica', 'lgóìica', 'lgóòica', 'lgóùica', 'lgóáica', 'lgóéica', 'lgóíica', 'lgóóica', 'lgóúica', 'lgóýica', 'lgóâica', 'lgóêica', 'lgóîica', 'lgóôica', 'lgóûica', 'lgóãica', 'lgóñica', 'lgóõica', 'lgóäica', 'lgóëica', 'lgóïica', 'lgóöica', 'lgóüica', 'lgóÿica', 'lgóåica', 'lgóiqca', 'lgóiwca', 'lgóieca', 'lgóirca', 'lgóitca', 'lgóiyca', 'lgóiuca', 'lgóiica', 'lgóioca', 'lgóipca', 'lgóiaca', 'lgóisca', 'lgóidca', 'lgóifca', 'lgóigca', 'lgóihca', 'lgóijca', 'lgóikca', 'lgóilca', 'lgóiçca', 'lgóizca', 'lgóixca', 'lgóicca', 'lgóivca', 'lgóibca', 'lgóinca', 'lgóimca', 'lgóiàca', 'lgóièca', 'lgóiìca', 'lgóiòca', 'lgóiùca', 'lgóiáca', 'lgóiéca', 'lgóiíca', 'lgóióca', 'lgóiúca', 'lgóiýca', 'lgóiâca', 'lgóiêca', 'lgóiîca', 'lgóiôca', 'lgóiûca', 'lgóiãca', 'lgóiñca', 'lgóiõca', 'lgóiäca', 'lgóiëca', 'lgóiïca', 'lgóiöca', 'lgóiüca', 'lgóiÿca', 'lgóiåca', 'lgóicqa', 'lgóicwa', 'lgóicea', 'lgóicra', 'lgóicta', 'lgóicya', 'lgóicua', 'lgóicia', 'lgóicoa', 'lgóicpa', 'lgóicaa', 'lgóicsa', 'lgóicda', 'lgóicfa', 'lgóicga', 'lgóicha', 'lgóicja', 'lgóicka', 'lgóicla', 'lgóicça', 'lgóicza', 'lgóicxa', 'lgóicca', 'lgóicva', 'lgóicba', 'lgóicna', 'lgóicma', 'lgóicàa', 'lgóicèa', 'lgóicìa', 'lgóicòa', 'lgóicùa', 'lgóicáa', 'lgóicéa', 'lgóicía', 'lgóicóa', 'lgóicúa', 'lgóicýa', 'lgóicâa', 'lgóicêa', 'lgóicîa', 'lgóicôa', 'lgóicûa', 'lgóicãa', 'lgóicña', 'lgóicõa', 'lgóicäa', 'lgóicëa', 'lgóicïa', 'lgóicöa', 'lgóicüa', 'lgóicÿa', 'lgóicåa', 'lgóicaq', 'lgóicaw', 'lgóicae', 'lgóicar', 'lgóicat', 'lgóicay', 'lgóicau', 'lgóicai', 'lgóicao', 'lgóicap', 'lgóicaa', 'lgóicas', 'lgóicad', 'lgóicaf', 'lgóicag', 'lgóicah', 'lgóicaj', 'lgóicak', 'lgóical', 'lgóicaç', 'lgóicaz', 'lgóicax', 'lgóicac', 'lgóicav', 'lgóicab', 'lgóican', 'lgóicam', 'lgóicaà', 'lgóicaè', 'lgóicaì', 'lgóicaò', 'lgóicaù', 'lgóicaá', 'lgóicaé', 'lgóicaí', 'lgóicaó', 'lgóicaú', 'lgóicaý', 'lgóicaâ', 'lgóicaê', 'lgóicaî', 'lgóicaô', 'lgóicaû', 'lgóicaã', 'lgóicañ', 'lgóicaõ', 'lgóicaä', 'lgóicaë', 'lgóicaï', 'lgóicaö', 'lgóicaü', 'lgóicaÿ', 'lgóicaå', 'góica', 'lóica', 'lgica', 'lgóca', 'lgóia', 'lgóic', 'lgóica', 'qgóica', 'wgóica', 'egóica', 'rgóica', 'tgóica', 'ygóica', 'ugóica', 'igóica', 'ogóica', 'pgóica', 'agóica', 'sgóica', 'dgóica', 'fgóica', 'ggóica', 'hgóica', 'jgóica', 'kgóica', 'lgóica', 'çgóica', 'zgóica', 'xgóica', 'cgóica', 'vgóica', 'bgóica', 'ngóica', 'mgóica', 'àgóica', 'ègóica', 'ìgóica', 'ògóica', 'ùgóica', 'ágóica', 'égóica', 'ígóica', 'ógóica', 'úgóica', 'ýgóica', 'âgóica', 'êgóica', 'îgóica', 'ôgóica', 'ûgóica', 'ãgóica', 'ñgóica', 'õgóica', 'ägóica', 'ëgóica', 'ïgóica', 'ögóica', 'ügóica', 'ÿgóica', 'ågóica', 'lqóica', 'lwóica', 'leóica', 'lróica', 'ltóica', 'lyóica', 'luóica', 'lióica', 'loóica', 'lpóica', 'laóica', 'lsóica', 'ldóica', 'lfóica', 'lgóica', 'lhóica', 'ljóica', 'lkóica', 'llóica', 'lçóica', 'lzóica', 'lxóica', 'lcóica', 'lvóica', 'lbóica', 'lnóica', 'lmóica', 'làóica', 'lèóica', 'lìóica', 'lòóica', 'lùóica', 'láóica', 'léóica', 'líóica', 'lóóica', 'lúóica', 'lýóica', 'lâóica', 'lêóica', 'lîóica', 'lôóica', 'lûóica', 'lãóica', 'lñóica', 'lõóica', 'läóica', 'lëóica', 'lïóica', 'löóica', 'lüóica', 'lÿóica', 'låóica', 'lgqica', 'lgwica', 'lgeica', 'lgrica', 'lgtica', 'lgyica', 'lguica', 'lgiica', 'lgoica', 'lgpica', 'lgaica', 'lgsica', 'lgdica', 'lgfica', 'lggica', 'lghica', 'lgjica', 'lgkica', 'lglica', 'lgçica', 'lgzica', 'lgxica', 'lgcica', 'lgvica', 'lgbica', 'lgnica', 'lgmica', 'lgàica', 'lgèica', 'lgìica', 'lgòica', 'lgùica', 'lgáica', 'lgéica', 'lgíica', 'lgóica', 'lgúica', 'lgýica', 'lgâica', 'lgêica', 'lgîica', 'lgôica', 'lgûica', 'lgãica', 'lgñica', 'lgõica', 'lgäica', 'lgëica', 'lgïica', 'lgöica', 'lgüica', 'lgÿica', 'lgåica', 'lgóqca', 'lgówca', 'lgóeca', 'lgórca', 'lgótca', 'lgóyca', 'lgóuca', 'lgóica', 'lgóoca', 'lgópca', 'lgóaca', 'lgósca', 'lgódca', 'lgófca', 'lgógca', 'lgóhca', 'lgójca', 'lgókca', 'lgólca', 'lgóçca', 'lgózca', 'lgóxca', 'lgócca', 'lgóvca', 'lgóbca', 'lgónca', 'lgómca', 'lgóàca', 'lgóèca', 'lgóìca', 'lgóòca', 'lgóùca', 'lgóáca', 'lgóéca', 'lgóíca', 'lgóóca', 'lgóúca', 'lgóýca', 'lgóâca', 'lgóêca', 'lgóîca', 'lgóôca', 'lgóûca', 'lgóãca', 'lgóñca', 'lgóõca', 'lgóäca', 'lgóëca', 'lgóïca', 'lgóöca', 'lgóüca', 'lgóÿca', 'lgóåca', 'lgóiqa', 'lgóiwa', 'lgóiea', 'lgóira', 'lgóita', 'lgóiya', 'lgóiua', 'lgóiia', 'lgóioa', 'lgóipa', 'lgóiaa', 'lgóisa', 'lgóida', 'lgóifa', 'lgóiga', 'lgóiha', 'lgóija', 'lgóika', 'lgóila', 'lgóiça', 'lgóiza', 'lgóixa', 'lgóica', 'lgóiva', 'lgóiba', 'lgóina', 'lgóima', 'lgóiàa', 'lgóièa', 'lgóiìa', 'lgóiòa', 'lgóiùa', 'lgóiáa', 'lgóiéa', 'lgóiía', 'lgóióa', 'lgóiúa', 'lgóiýa', 'lgóiâa', 'lgóiêa', 'lgóiîa', 'lgóiôa', 'lgóiûa', 'lgóiãa', 'lgóiña', 'lgóiõa', 'lgóiäa', 'lgóiëa', 'lgóiïa', 'lgóiöa', 'lgóiüa', 'lgóiÿa', 'lgóiåa', 'lgóicq', 'lgóicw', 'lgóice', 'lgóicr', 'lgóict', 'lgóicy', 'lgóicu', 'lgóici', 'lgóico', 'lgóicp', 'lgóica', 'lgóics', 'lgóicd', 'lgóicf', 'lgóicg', 'lgóich', 'lgóicj', 'lgóick', 'lgóicl', 'lgóicç', 'lgóicz', 'lgóicx', 'lgóicc', 'lgóicv', 'lgóicb', 'lgóicn', 'lgóicm', 'lgóicà', 'lgóicè', 'lgóicì', 'lgóicò', 'lgóicù', 'lgóicá', 'lgóicé', 'lgóicí', 'lgóicó', 'lgóicú', 'lgóicý', 'lgóicâ', 'lgóicê', 'lgóicî', 'lgóicô', 'lgóicû', 'lgóicã', 'lgóicñ', 'lgóicõ', 'lgóicä', 'lgóicë', 'lgóicï', 'lgóicö', 'lgóicü', 'lgóicÿ', 'lgóicå', 'lgóicaq', 'lgóicaw', 'lgóicae', 'lgóicar', 'lgóicat', 'lgóicay', 'lgóicau', 'lgóicai', 'lgóicao', 'lgóicap', 'lgóicaa', 'lgóicas', 'lgóicad', 'lgóicaf', 'lgóicag', 'lgóicah', 'lgóicaj', 'lgóicak', 'lgóical', 'lgóicaç', 'lgóicaz', 'lgóicax', 'lgóicac', 'lgóicav', 'lgóicab', 'lgóican', 'lgóicam', 'lgóicaà', 'lgóicaè', 'lgóicaì', 'lgóicaò', 'lgóicaù', 'lgóicaá', 'lgóicaé', 'lgóicaí', 'lgóicaó', 'lgóicaú', 'lgóicaý', 'lgóicaâ', 'lgóicaê', 'lgóicaî', 'lgóicaô', 'lgóicaû', 'lgóicaã', 'lgóicañ', 'lgóicaõ', 'lgóicaä', 'lgóicaë', 'lgóicaï', 'lgóicaö', 'lgóicaü', 'lgóicaÿ', 'lgóicaå', 'glóica', 'lógica', 'lgióca', 'lgócia', 'lgóiac']\n"
     ]
    }
   ],
   "source": [
    "palavra_exemplo = 'lgóica'\n",
    "palavras_geradas = gerador_palavras(palavra_exemplo)\n",
    "\n",
    "\n",
    "print(palavras_geradas)"
   ]
  },
  {
   "cell_type": "code",
   "execution_count": 47,
   "metadata": {},
   "outputs": [
    {
     "name": "stdout",
     "output_type": "stream",
     "text": [
      "['qlógiac', 'wlógiac', 'elógiac', 'rlógiac', 'tlógiac', 'ylógiac', 'ulógiac', 'ilógiac', 'ológiac', 'plógiac', 'alógiac', 'slógiac', 'dlógiac', 'flógiac', 'glógiac', 'hlógiac', 'jlógiac', 'klógiac', 'llógiac', 'çlógiac', 'zlógiac', 'xlógiac', 'clógiac', 'vlógiac', 'blógiac', 'nlógiac', 'mlógiac', 'àlógiac', 'èlógiac', 'ìlógiac', 'òlógiac', 'ùlógiac', 'álógiac', 'élógiac', 'ílógiac', 'ólógiac', 'úlógiac', 'ýlógiac', 'âlógiac', 'êlógiac', 'îlógiac', 'ôlógiac', 'ûlógiac', 'ãlógiac', 'ñlógiac', 'õlógiac', 'älógiac', 'ëlógiac', 'ïlógiac', 'ölógiac', 'ülógiac', 'ÿlógiac', 'ålógiac', 'lqógiac', 'lwógiac', 'leógiac', 'lrógiac', 'ltógiac', 'lyógiac', 'luógiac', 'liógiac', 'loógiac', 'lpógiac', 'laógiac', 'lsógiac', 'ldógiac', 'lfógiac', 'lgógiac', 'lhógiac', 'ljógiac', 'lkógiac', 'llógiac', 'lçógiac', 'lzógiac', 'lxógiac', 'lcógiac', 'lvógiac', 'lbógiac', 'lnógiac', 'lmógiac', 'làógiac', 'lèógiac', 'lìógiac', 'lòógiac', 'lùógiac', 'láógiac', 'léógiac', 'líógiac', 'lóógiac', 'lúógiac', 'lýógiac', 'lâógiac', 'lêógiac', 'lîógiac', 'lôógiac', 'lûógiac', 'lãógiac', 'lñógiac', 'lõógiac', 'läógiac', 'lëógiac', 'lïógiac', 'löógiac', 'lüógiac', 'lÿógiac', 'låógiac', 'lóqgiac', 'lówgiac', 'lóegiac', 'lórgiac', 'lótgiac', 'lóygiac', 'lóugiac', 'lóigiac', 'lóogiac', 'lópgiac', 'lóagiac', 'lósgiac', 'lódgiac', 'lófgiac', 'lóggiac', 'lóhgiac', 'lójgiac', 'lókgiac', 'lólgiac', 'lóçgiac', 'lózgiac', 'lóxgiac', 'lócgiac', 'lóvgiac', 'lóbgiac', 'lóngiac', 'lómgiac', 'lóàgiac', 'lóègiac', 'lóìgiac', 'lóògiac', 'lóùgiac', 'lóágiac', 'lóégiac', 'lóígiac', 'lóógiac', 'lóúgiac', 'lóýgiac', 'lóâgiac', 'lóêgiac', 'lóîgiac', 'lóôgiac', 'lóûgiac', 'lóãgiac', 'lóñgiac', 'lóõgiac', 'lóägiac', 'lóëgiac', 'lóïgiac', 'lóögiac', 'lóügiac', 'lóÿgiac', 'lóågiac', 'lógqiac', 'lógwiac', 'lógeiac', 'lógriac', 'lógtiac', 'lógyiac', 'lóguiac', 'lógiiac', 'lógoiac', 'lógpiac', 'lógaiac', 'lógsiac', 'lógdiac', 'lógfiac', 'lóggiac', 'lóghiac', 'lógjiac', 'lógkiac', 'lógliac', 'lógçiac', 'lógziac', 'lógxiac', 'lógciac', 'lógviac', 'lógbiac', 'lógniac', 'lógmiac', 'lógàiac', 'lógèiac', 'lógìiac', 'lógòiac', 'lógùiac', 'lógáiac', 'lógéiac', 'lógíiac', 'lógóiac', 'lógúiac', 'lógýiac', 'lógâiac', 'lógêiac', 'lógîiac', 'lógôiac', 'lógûiac', 'lógãiac', 'lógñiac', 'lógõiac', 'lógäiac', 'lógëiac', 'lógïiac', 'lógöiac', 'lógüiac', 'lógÿiac', 'lógåiac', 'lógiqac', 'lógiwac', 'lógieac', 'lógirac', 'lógitac', 'lógiyac', 'lógiuac', 'lógiiac', 'lógioac', 'lógipac', 'lógiaac', 'lógisac', 'lógidac', 'lógifac', 'lógigac', 'lógihac', 'lógijac', 'lógikac', 'lógilac', 'lógiçac', 'lógizac', 'lógixac', 'lógicac', 'lógivac', 'lógibac', 'lóginac', 'lógimac', 'lógiàac', 'lógièac', 'lógiìac', 'lógiòac', 'lógiùac', 'lógiáac', 'lógiéac', 'lógiíac', 'lógióac', 'lógiúac', 'lógiýac', 'lógiâac', 'lógiêac', 'lógiîac', 'lógiôac', 'lógiûac', 'lógiãac', 'lógiñac', 'lógiõac', 'lógiäac', 'lógiëac', 'lógiïac', 'lógiöac', 'lógiüac', 'lógiÿac', 'lógiåac', 'lógiaqc', 'lógiawc', 'lógiaec', 'lógiarc', 'lógiatc', 'lógiayc', 'lógiauc', 'lógiaic', 'lógiaoc', 'lógiapc', 'lógiaac', 'lógiasc', 'lógiadc', 'lógiafc', 'lógiagc', 'lógiahc', 'lógiajc', 'lógiakc', 'lógialc', 'lógiaçc', 'lógiazc', 'lógiaxc', 'lógiacc', 'lógiavc', 'lógiabc', 'lógianc', 'lógiamc', 'lógiaàc', 'lógiaèc', 'lógiaìc', 'lógiaòc', 'lógiaùc', 'lógiaác', 'lógiaéc', 'lógiaíc', 'lógiaóc', 'lógiaúc', 'lógiaýc', 'lógiaâc', 'lógiaêc', 'lógiaîc', 'lógiaôc', 'lógiaûc', 'lógiaãc', 'lógiañc', 'lógiaõc', 'lógiaäc', 'lógiaëc', 'lógiaïc', 'lógiaöc', 'lógiaüc', 'lógiaÿc', 'lógiaåc', 'lógiacq', 'lógiacw', 'lógiace', 'lógiacr', 'lógiact', 'lógiacy', 'lógiacu', 'lógiaci', 'lógiaco', 'lógiacp', 'lógiaca', 'lógiacs', 'lógiacd', 'lógiacf', 'lógiacg', 'lógiach', 'lógiacj', 'lógiack', 'lógiacl', 'lógiacç', 'lógiacz', 'lógiacx', 'lógiacc', 'lógiacv', 'lógiacb', 'lógiacn', 'lógiacm', 'lógiacà', 'lógiacè', 'lógiacì', 'lógiacò', 'lógiacù', 'lógiacá', 'lógiacé', 'lógiací', 'lógiacó', 'lógiacú', 'lógiacý', 'lógiacâ', 'lógiacê', 'lógiacî', 'lógiacô', 'lógiacû', 'lógiacã', 'lógiacñ', 'lógiacõ', 'lógiacä', 'lógiacë', 'lógiacï', 'lógiacö', 'lógiacü', 'lógiacÿ', 'lógiacå', 'ógiac', 'lgiac', 'lóiac', 'lógac', 'lógic', 'lógia', 'lógiac', 'qógiac', 'wógiac', 'eógiac', 'rógiac', 'tógiac', 'yógiac', 'uógiac', 'iógiac', 'oógiac', 'pógiac', 'aógiac', 'sógiac', 'dógiac', 'fógiac', 'gógiac', 'hógiac', 'jógiac', 'kógiac', 'lógiac', 'çógiac', 'zógiac', 'xógiac', 'cógiac', 'vógiac', 'bógiac', 'nógiac', 'mógiac', 'àógiac', 'èógiac', 'ìógiac', 'òógiac', 'ùógiac', 'áógiac', 'éógiac', 'íógiac', 'óógiac', 'úógiac', 'ýógiac', 'âógiac', 'êógiac', 'îógiac', 'ôógiac', 'ûógiac', 'ãógiac', 'ñógiac', 'õógiac', 'äógiac', 'ëógiac', 'ïógiac', 'öógiac', 'üógiac', 'ÿógiac', 'åógiac', 'lqgiac', 'lwgiac', 'legiac', 'lrgiac', 'ltgiac', 'lygiac', 'lugiac', 'ligiac', 'logiac', 'lpgiac', 'lagiac', 'lsgiac', 'ldgiac', 'lfgiac', 'lggiac', 'lhgiac', 'ljgiac', 'lkgiac', 'llgiac', 'lçgiac', 'lzgiac', 'lxgiac', 'lcgiac', 'lvgiac', 'lbgiac', 'lngiac', 'lmgiac', 'làgiac', 'lègiac', 'lìgiac', 'lògiac', 'lùgiac', 'lágiac', 'légiac', 'lígiac', 'lógiac', 'lúgiac', 'lýgiac', 'lâgiac', 'lêgiac', 'lîgiac', 'lôgiac', 'lûgiac', 'lãgiac', 'lñgiac', 'lõgiac', 'lägiac', 'lëgiac', 'lïgiac', 'lögiac', 'lügiac', 'lÿgiac', 'lågiac', 'lóqiac', 'lówiac', 'lóeiac', 'lóriac', 'lótiac', 'lóyiac', 'lóuiac', 'lóiiac', 'lóoiac', 'lópiac', 'lóaiac', 'lósiac', 'lódiac', 'lófiac', 'lógiac', 'lóhiac', 'lójiac', 'lókiac', 'lóliac', 'lóçiac', 'lóziac', 'lóxiac', 'lóciac', 'lóviac', 'lóbiac', 'lóniac', 'lómiac', 'lóàiac', 'lóèiac', 'lóìiac', 'lóòiac', 'lóùiac', 'lóáiac', 'lóéiac', 'lóíiac', 'lóóiac', 'lóúiac', 'lóýiac', 'lóâiac', 'lóêiac', 'lóîiac', 'lóôiac', 'lóûiac', 'lóãiac', 'lóñiac', 'lóõiac', 'lóäiac', 'lóëiac', 'lóïiac', 'lóöiac', 'lóüiac', 'lóÿiac', 'lóåiac', 'lógqac', 'lógwac', 'lógeac', 'lógrac', 'lógtac', 'lógyac', 'lóguac', 'lógiac', 'lógoac', 'lógpac', 'lógaac', 'lógsac', 'lógdac', 'lógfac', 'lóggac', 'lóghac', 'lógjac', 'lógkac', 'lóglac', 'lógçac', 'lógzac', 'lógxac', 'lógcac', 'lógvac', 'lógbac', 'lógnac', 'lógmac', 'lógàac', 'lógèac', 'lógìac', 'lógòac', 'lógùac', 'lógáac', 'lógéac', 'lógíac', 'lógóac', 'lógúac', 'lógýac', 'lógâac', 'lógêac', 'lógîac', 'lógôac', 'lógûac', 'lógãac', 'lógñac', 'lógõac', 'lógäac', 'lógëac', 'lógïac', 'lógöac', 'lógüac', 'lógÿac', 'lógåac', 'lógiqc', 'lógiwc', 'lógiec', 'lógirc', 'lógitc', 'lógiyc', 'lógiuc', 'lógiic', 'lógioc', 'lógipc', 'lógiac', 'lógisc', 'lógidc', 'lógifc', 'lógigc', 'lógihc', 'lógijc', 'lógikc', 'lógilc', 'lógiçc', 'lógizc', 'lógixc', 'lógicc', 'lógivc', 'lógibc', 'lóginc', 'lógimc', 'lógiàc', 'lógièc', 'lógiìc', 'lógiòc', 'lógiùc', 'lógiác', 'lógiéc', 'lógiíc', 'lógióc', 'lógiúc', 'lógiýc', 'lógiâc', 'lógiêc', 'lógiîc', 'lógiôc', 'lógiûc', 'lógiãc', 'lógiñc', 'lógiõc', 'lógiäc', 'lógiëc', 'lógiïc', 'lógiöc', 'lógiüc', 'lógiÿc', 'lógiåc', 'lógiaq', 'lógiaw', 'lógiae', 'lógiar', 'lógiat', 'lógiay', 'lógiau', 'lógiai', 'lógiao', 'lógiap', 'lógiaa', 'lógias', 'lógiad', 'lógiaf', 'lógiag', 'lógiah', 'lógiaj', 'lógiak', 'lógial', 'lógiaç', 'lógiaz', 'lógiax', 'lógiac', 'lógiav', 'lógiab', 'lógian', 'lógiam', 'lógiaà', 'lógiaè', 'lógiaì', 'lógiaò', 'lógiaù', 'lógiaá', 'lógiaé', 'lógiaí', 'lógiaó', 'lógiaú', 'lógiaý', 'lógiaâ', 'lógiaê', 'lógiaî', 'lógiaô', 'lógiaû', 'lógiaã', 'lógiañ', 'lógiaõ', 'lógiaä', 'lógiaë', 'lógiaï', 'lógiaö', 'lógiaü', 'lógiaÿ', 'lógiaå', 'lógiacq', 'lógiacw', 'lógiace', 'lógiacr', 'lógiact', 'lógiacy', 'lógiacu', 'lógiaci', 'lógiaco', 'lógiacp', 'lógiaca', 'lógiacs', 'lógiacd', 'lógiacf', 'lógiacg', 'lógiach', 'lógiacj', 'lógiack', 'lógiacl', 'lógiacç', 'lógiacz', 'lógiacx', 'lógiacc', 'lógiacv', 'lógiacb', 'lógiacn', 'lógiacm', 'lógiacà', 'lógiacè', 'lógiacì', 'lógiacò', 'lógiacù', 'lógiacá', 'lógiacé', 'lógiací', 'lógiacó', 'lógiacú', 'lógiacý', 'lógiacâ', 'lógiacê', 'lógiacî', 'lógiacô', 'lógiacû', 'lógiacã', 'lógiacñ', 'lógiacõ', 'lógiacä', 'lógiacë', 'lógiacï', 'lógiacö', 'lógiacü', 'lógiacÿ', 'lógiacå', 'ólgiac', 'lgóiac', 'lóigac', 'lógaic', 'lógica']\n"
     ]
    }
   ],
   "source": [
    "palavra_exemplo = 'lógiac'\n",
    "palavras_geradas = gerador_palavras(palavra_exemplo)\n",
    "\n",
    "\n",
    "print(palavras_geradas)"
   ]
  },
  {
   "cell_type": "code",
   "execution_count": 48,
   "metadata": {},
   "outputs": [
    {
     "name": "stdout",
     "output_type": "stream",
     "text": [
      "\n",
      "    taxa de acerto: 76.34% \n",
      "    total de palavras: 186\n"
     ]
    }
   ],
   "source": [
    "avaliador(lista_teste)"
   ]
  },
  {
   "cell_type": "code",
   "execution_count": 56,
   "metadata": {},
   "outputs": [
    {
     "data": {
      "text/plain": [
       "FreqDist({'lógiac': 7, 'lógiacc': 3, 'llógiac': 2, 'lóógiac': 2, 'lóggiac': 2, 'lógiiac': 2, 'lógiaac': 2, 'lógiacq': 2, 'lógiacw': 2, 'lógiace': 2, ...})"
      ]
     },
     "execution_count": 56,
     "metadata": {},
     "output_type": "execute_result"
    }
   ],
   "source": [
    "p1 = nltk.FreqDist(palavras_geradas)\n",
    "p1"
   ]
  },
  {
   "cell_type": "code",
   "execution_count": 61,
   "metadata": {},
   "outputs": [
    {
     "data": {
      "text/plain": [
       "[('lógiac', 7),\n",
       " ('lógiacc', 3),\n",
       " ('llógiac', 2),\n",
       " ('lóógiac', 2),\n",
       " ('lóggiac', 2),\n",
       " ('lógiiac', 2),\n",
       " ('lógiaac', 2),\n",
       " ('lógiacq', 2),\n",
       " ('lógiacw', 2),\n",
       " ('lógiace', 2)]"
      ]
     },
     "execution_count": 61,
     "metadata": {},
     "output_type": "execute_result"
    }
   ],
   "source": [
    "p1.most_common(10)"
   ]
  },
  {
   "cell_type": "code",
   "execution_count": 74,
   "metadata": {},
   "outputs": [
    {
     "data": {
      "text/plain": [
       "1"
      ]
     },
     "execution_count": 74,
     "metadata": {},
     "output_type": "execute_result"
    }
   ],
   "source": [
    "p1['lógica']"
   ]
  },
  {
   "cell_type": "code",
   "execution_count": 80,
   "metadata": {},
   "outputs": [],
   "source": [
    "def avaliador(testes,vocabulario):\n",
    "    numero_palavras = len(testes)\n",
    "    acertou=0\n",
    "    desconhecida=0\n",
    "    \n",
    "    for correta, errada in testes:\n",
    "        palavra_corrigida = corretor(errada)\n",
    "        if palavra_corrigida == correta:\n",
    "            acertou += 1\n",
    "        else:\n",
    "            desconhecida += (correta not in vocabulario)\n",
    "            \n",
    "    taxa_acerto = acertou/numero_palavras\n",
    "    taxa_desconhecida = desconhecida/numero_palavras\n",
    "    \n",
    "    \n",
    "    print(f'''\n",
    "    taxa de acerto: {round(taxa_acerto*100,2)}% \n",
    "    taxa de palavras desconhecidas: {round(taxa_desconhecida*100,2)}%\n",
    "    total de palavras: {numero_palavras}\n",
    "    ''')"
   ]
  },
  {
   "cell_type": "code",
   "execution_count": 81,
   "metadata": {},
   "outputs": [],
   "source": [
    "vocabulario = set(lista_normalizada)"
   ]
  },
  {
   "cell_type": "code",
   "execution_count": 82,
   "metadata": {},
   "outputs": [
    {
     "name": "stdout",
     "output_type": "stream",
     "text": [
      "\n",
      "    taxa de acerto: 76.34% \n",
      "    taxa de palavras desconhecidas: 6.99%\n",
      "    total de palavras: 186\n",
      "    \n"
     ]
    }
   ],
   "source": [
    "avaliador(lista_teste, vocabulario)"
   ]
  },
  {
   "cell_type": "markdown",
   "metadata": {},
   "source": [
    "## Criando um gerador 'turbinado' - corrigindo 2 letras na mesma palavra"
   ]
  },
  {
   "cell_type": "code",
   "execution_count": 83,
   "metadata": {},
   "outputs": [],
   "source": [
    "def gerador_turbinado(palavras_geradas):\n",
    "    novas_palavras = []\n",
    "    \n",
    "    for palavra in palavras_geradas:\n",
    "        novas_palavras += gerador_palavras(palavra)\n",
    "    \n",
    "    return novas_palavras"
   ]
  },
  {
   "cell_type": "code",
   "execution_count": 87,
   "metadata": {},
   "outputs": [],
   "source": [
    "palavra = 'lóiigica'"
   ]
  },
  {
   "cell_type": "code",
   "execution_count": 88,
   "metadata": {},
   "outputs": [
    {
     "data": {
      "text/plain": [
       "True"
      ]
     },
     "execution_count": 88,
     "metadata": {},
     "output_type": "execute_result"
    }
   ],
   "source": [
    "palavras_g = gerador_turbinado(gerador_palavras(palavra))\n",
    "'lógica' in palavras_g"
   ]
  },
  {
   "cell_type": "code",
   "execution_count": 89,
   "metadata": {},
   "outputs": [
    {
     "data": {
      "text/plain": [
       "997276"
      ]
     },
     "execution_count": 89,
     "metadata": {},
     "output_type": "execute_result"
    }
   ],
   "source": [
    "len(palavras_g)"
   ]
  },
  {
   "cell_type": "code",
   "execution_count": 94,
   "metadata": {},
   "outputs": [],
   "source": [
    "def novo_corretor(palavra):\n",
    "    palavras_geradas = gerador_palavras(palavra)\n",
    "    palavras_turbinado = gerador_turbinado(palavras_geradas)\n",
    "    todas_palavras = set(palavras_geradas + palavras_turbinado )\n",
    "    candidatos = [palavra]\n",
    "    \n",
    "    for palavra in todas_palavras:\n",
    "        if palavra in vocabulario:\n",
    "            candidatos.append(palavra)\n",
    "    #print(f'quantidade de candidatos: {len(candidatos)}')\n",
    "    palavra_correta = max(candidatos, key= probabilidade) #'Key= função'.. cálcular a probabilidade das palavras, retornando a palavra com maior probabilidade \n",
    "    \n",
    "    return palavra_correta"
   ]
  },
  {
   "cell_type": "code",
   "execution_count": 93,
   "metadata": {},
   "outputs": [
    {
     "name": "stdout",
     "output_type": "stream",
     "text": [
      "quantidade de candidatos: 2\n"
     ]
    },
    {
     "data": {
      "text/plain": [
       "'lógica'"
      ]
     },
     "execution_count": 93,
     "metadata": {},
     "output_type": "execute_result"
    }
   ],
   "source": [
    "novo_corretor(palavra)"
   ]
  },
  {
   "cell_type": "code",
   "execution_count": null,
   "metadata": {},
   "outputs": [],
   "source": []
  },
  {
   "cell_type": "markdown",
   "metadata": {},
   "source": [
    "## Adaptando a função avaliador para avaliar a função novo_corretor"
   ]
  },
  {
   "cell_type": "code",
   "execution_count": 103,
   "metadata": {},
   "outputs": [],
   "source": [
    "def novo_avaliador(testes,vocabulario):\n",
    "    numero_palavras = len(testes)\n",
    "    acertou=0\n",
    "    desconhecida=0\n",
    "    \n",
    "    for correta, errada in testes:\n",
    "        palavra_corrigida = novo_corretor(errada)\n",
    "        desconhecida += (correta not in vocabulario)\n",
    "        if palavra_corrigida == correta:\n",
    "            acertou += 1\n",
    "        \n",
    "            \n",
    "    taxa_acerto = acertou/numero_palavras\n",
    "    taxa_desconhecida = desconhecida/numero_palavras\n",
    "    \n",
    "    \n",
    "    print(f'''\n",
    "    taxa de acerto: {round(taxa_acerto*100,2)}% \n",
    "    taxa de palavras desconhecidas: {round(taxa_desconhecida*100,2)}%\n",
    "    total de palavras: {numero_palavras}\n",
    "    ''')"
   ]
  },
  {
   "cell_type": "code",
   "execution_count": 104,
   "metadata": {},
   "outputs": [],
   "source": [
    "def print_avaliador(testes,vocabulario):\n",
    "    numero_palavras = len(testes)\n",
    "    acertou=0\n",
    "    desconhecida=0\n",
    "    \n",
    "    for correta, errada in testes:\n",
    "        palavra_corrigida = novo_corretor(errada)\n",
    "        desconhecida += (correta not in vocabulario)\n",
    "        if palavra_corrigida == correta:\n",
    "            acertou += 1\n",
    "        else:\n",
    "            print(errada + '-' + corretor(errada) + '-' + palavra_corrigida)\n",
    "            \n",
    "    taxa_acerto = acertou/numero_palavras\n",
    "    taxa_desconhecida = desconhecida/numero_palavras\n",
    "    \n",
    "    \n",
    "    print(f'''\n",
    "    taxa de acerto: {round(taxa_acerto*100,2)}% \n",
    "    taxa de palavras desconhecidas: {round(taxa_desconhecida*100,2)}%\n",
    "    total de palavras: {numero_palavras}\n",
    "    ''')"
   ]
  },
  {
   "cell_type": "code",
   "execution_count": 100,
   "metadata": {},
   "outputs": [
    {
     "name": "stdout",
     "output_type": "stream",
     "text": [
      "esje-esse-se\n",
      "sãêo-são-não\n",
      "dosa-dos-do\n",
      "eme-em-de\n",
      "eàssa-essa-esse\n",
      "daõs-das-da\n",
      "céda-cada-da\n",
      "noâ-no-o\n",
      "enêão-então-não\n",
      "tĩem-tem-em\n",
      "nossah-nossa-nosso\n",
      "teb-tem-de\n",
      "atĩ-até-a\n",
      "âem-em-de\n",
      "foo-foi-o\n",
      "serr-ser-se\n",
      "entke-entre-então\n",
      "van-vai-a\n",
      "çeus-seus-seu\n",
      "eû-e-de\n",
      "temeo-tempo-temos\n",
      "semre-sempre-ser\n",
      "elaá-ela-ele\n",
      "síó-só-se\n",
      "siàe-site-se\n",
      "seém-sem-em\n",
      "peln-pelo-ele\n",
      "aléra-alura-agora\n",
      "tdia-dia-da\n",
      "jé-é-de\n",
      "sãô-são-não\n",
      "odos-dos-do\n",
      "siua-sua-seu\n",
      "elpe-ele-esse\n",
      "teos-temos-os\n",
      "eũsa-essa-esse\n",
      "vjmos-vamos-temos\n",
      "dms-dos-de\n",
      "cava-java-para\n",
      "ános-nos-no\n",
      "èaso-caso-as\n",
      "túem-tem-em\n",
      "daáos-dados-dos\n",
      "nossk-nosso-nosso\n",
      "tãer-ter-ser\n",
      "vté-até-é\n",
      "búm-bem-um\n",
      "sçerá-será-ser\n",
      "entró-entre-então\n",
      "uai-vai-a\n",
      "sâus-seus-seu\n",
      "ìeu-seu-de\n",
      "fual-qual-sua\n",
      "elal-ela-ele\n",
      "skó-só-se\n",
      "secm-sem-em\n",
      "aluéa-alura-além\n",
      "dil-dia-de\n",
      "sód-só-se\n",
      "eúaa-qeúaa-essa\n",
      "ró-só-de\n",
      "dĩaz-qdĩaz-da\n",
      "correptor-corretor-correto\n",
      "trtica-tática-prática\n",
      "ewpoderamento-qewpoderamento-ewpoderamento\n",
      "îgato-gato-fato\n",
      "cakvalo-qcakvalo-carvalho\n",
      "canelac-qcanelac-janela\n",
      "tênisy-qtênisy-tênisy\n",
      "anciosa-qanciosa-ansioso\n",
      "ancciosa-qancciosa-ancciosa\n",
      "ansioa-qansioa-ensina\n",
      "asterístico-qasterístico-asterístico\n",
      "entertido-qentertido-entendido\n",
      "ritimo-ritmo-ótimo\n",
      "indiota-qindiota-indica\n",
      "tomare-tomar-tomar\n",
      "seje-seja-se\n",
      "provalecer-qprovalecer-prevaleceu\n",
      "esteje-esteja-este\n",
      "mindigo-qmindigo-indico\n",
      "pertubar-qpertubar-derrubar\n",
      "\n",
      "    taxa de acerto: 55.91% \n",
      "    taxa de palavras desconhecidas: 6.99%\n",
      "    total de palavras: 186\n",
      "    \n"
     ]
    }
   ],
   "source": [
    "avaliador(lista_teste, vocabulario)"
   ]
  },
  {
   "cell_type": "code",
   "execution_count": 101,
   "metadata": {},
   "outputs": [],
   "source": [
    "def avaliador(testes,vocabulario):\n",
    "    numero_palavras = len(testes)\n",
    "    acertou=0\n",
    "    desconhecida=0\n",
    "    \n",
    "    for correta, errada in testes:\n",
    "        palavra_corrigida = corretor(errada)\n",
    "        desconhecida += (correta not in vocabulario)\n",
    "        if palavra_corrigida == correta:\n",
    "            acertou += 1\n",
    "            \n",
    "    taxa_acerto = acertou/numero_palavras\n",
    "    taxa_desconhecida = desconhecida/numero_palavras\n",
    "    \n",
    "    \n",
    "    print(f'''\n",
    "    taxa de acerto: {round(taxa_acerto*100,2)}% \n",
    "    taxa de palavras desconhecidas: {round(taxa_desconhecida*100,2)}%\n",
    "    total de palavras: {numero_palavras}\n",
    "    ''')"
   ]
  },
  {
   "cell_type": "code",
   "execution_count": 102,
   "metadata": {},
   "outputs": [
    {
     "name": "stdout",
     "output_type": "stream",
     "text": [
      "\n",
      "    taxa de acerto: 76.34% \n",
      "    taxa de palavras desconhecidas: 6.99%\n",
      "    total de palavras: 186\n",
      "    \n"
     ]
    }
   ],
   "source": [
    "avaliador(lista_teste, vocabulario)"
   ]
  },
  {
   "cell_type": "code",
   "execution_count": 105,
   "metadata": {},
   "outputs": [
    {
     "name": "stdout",
     "output_type": "stream",
     "text": [
      "\n",
      "    taxa de acerto: 55.91% \n",
      "    taxa de palavras desconhecidas: 6.99%\n",
      "    total de palavras: 186\n",
      "    \n"
     ]
    }
   ],
   "source": [
    "novo_avaliador(lista_teste, vocabulario)"
   ]
  },
  {
   "cell_type": "code",
   "execution_count": 109,
   "metadata": {},
   "outputs": [
    {
     "name": "stdout",
     "output_type": "stream",
     "text": [
      " \n",
      "---TESTE ENTRE OS CORRETORES---\n",
      "\n",
      "     Palavra: 'lóiigica'\n",
      "\n",
      "corretor--> qlóiigica\n",
      "novo_corretor--> lógica\n"
     ]
    }
   ],
   "source": [
    "print(f''' \n",
    "---TESTE ENTRE OS CORRETORES---\n",
    "\n",
    "     Palavra: 'lóiigica'\n",
    "\n",
    "corretor--> {corretor('lóiigica')}\n",
    "novo_corretor--> {novo_corretor('lóiigica')}''')"
   ]
  },
  {
   "cell_type": "code",
   "execution_count": null,
   "metadata": {},
   "outputs": [],
   "source": []
  }
 ],
 "metadata": {
  "kernelspec": {
   "display_name": "Python 3",
   "language": "python",
   "name": "python3"
  },
  "language_info": {
   "codemirror_mode": {
    "name": "ipython",
    "version": 3
   },
   "file_extension": ".py",
   "mimetype": "text/x-python",
   "name": "python",
   "nbconvert_exporter": "python",
   "pygments_lexer": "ipython3",
   "version": "3.7.3"
  }
 },
 "nbformat": 4,
 "nbformat_minor": 2
}
